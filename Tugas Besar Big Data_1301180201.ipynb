{
 "cells": [
  {
   "cell_type": "markdown",
   "id": "2c7a37e9",
   "metadata": {},
   "source": [
    "<b> Tugas Besar Mata Kuliah Big Data </b>\n",
    "<ul style=\"list-style-type:none;\">\n",
    "    <li> Nama: Rachmat Dwi Putra </li>\n",
    "    <li> NIM: 1301180201 </li>\n",
    "    <li> kelas: Big Data dan AI IF-45-GABPJJ </li>\n",
    "</ul>"
   ]
  },
  {
   "cell_type": "markdown",
   "id": "b976051b",
   "metadata": {},
   "source": [
    "# Deskripsi Proyek"
   ]
  },
  {
   "cell_type": "markdown",
   "id": "3a90312e",
   "metadata": {},
   "source": [
    "Anda diminta untuk merancang dan mengimplementasikan solusi berbasis Artificial\n",
    "Intelligence (AI) untuk menganalisis dan menghasilkan knowledge dari dataset Big Data\n",
    "yang dapat diunduh pada misalnya kaggle.com atau lainnya. Proyek ini bertujuan untuk\n",
    "mengintegrasikan pengetahuan tentang AI dan Big Data untuk menyelesaikan masalah\n",
    "dunia nyata.\n",
    "\n",
    "Studi Kasus Yang Bisa Dipilih:\n",
    "<ol>\n",
    "    <li> Analisis Sentimen Pelanggan </li>\n",
    "    <ul>\n",
    "        <li> Gunakan dataset besar berupa ulasan pelanggan dari platform e-commerce </li>\n",
    "        <li> Bangun model AI untuk menganalisis sentimen dan mengidentifikasi pola perilaku pelanggan. </li>\n",
    "    </ul>\n",
    "    <li> Prediksi Permintaan Pasar </li>\n",
    "    <ul>\n",
    "        <li> Gunakan dataset besar tentang transaksi penjualan dari berbagai wilayah </li>\n",
    "        <li> Bangun model prediktif untuk memperkirakan permintaan produk tertentu di masa depan. </li>\n",
    "    </ul>\n",
    "    <li> Analisis Fraud pada Transaksi Keuangan </li>\n",
    "    <ul>\n",
    "        <li> Gunakan dataset besar tentang transaksi keuangan. </li>\n",
    "        <li> Bangun model AI untuk mendeteksi aktivitas mencurigakan atau fraud. </li>\n",
    "    </ul>\n",
    "    <li> Analisis Data Kesehatan </li>\n",
    "    <ul>\n",
    "        <li> Gunakan dataset besar tentang rekam medis pasien (non-identifiable). </li>\n",
    "        <li> Bangun model prediktif untuk mendiagnosis penyakit berdasarkan pola data pasien. </li>\n",
    "    </ul>\n",
    "</ol>"
   ]
  },
  {
   "cell_type": "markdown",
   "id": "b6854196",
   "metadata": {},
   "source": [
    "# Persyaratan Proyek"
   ]
  },
  {
   "cell_type": "markdown",
   "id": "bdeed9ed",
   "metadata": {},
   "source": [
    "<ol>\n",
    "    <li> Pengumpulan dan Pemrosesan Data </li>\n",
    "    <ul>\n",
    "        <li> Pilih dataset Big Data yang sesuai dengan studi kasus </li>\n",
    "        <li> Lakukan preprocessing data (cleaning, normalisasi, dan transformasi). </li>\n",
    "    </ul>\n",
    "    <li> Model AI </li>\n",
    "    <ul>\n",
    "        <li> Bangun model AI yang sesuai (contoh: model machine learning, deep learning, atau kombinasi) </li>\n",
    "        <li> Jelaskan algoritma yang digunakan dan alasannya. </li>\n",
    "    </ul>\n",
    "    <li> Analisis dan Visualisasi </li>\n",
    "    <ul>\n",
    "        <li> Tampilkan hasil analisis menggunakan alat visualisasi data (contoh: Tableau, Matplotlib, atau Power BI) </li>\n",
    "        <li> Interpretasikan hasil dan buat kesimpulan. </li>\n",
    "    </ul>\n",
    "    <li> Integrasi dengan Big Data Tools </li>\n",
    "    <ul>\n",
    "        <li> Gunakan minimal satu alat Big Data, seperti Hadoop, Spark, atau BigQuery, untuk menangani data berskala besar. </li>\n",
    "    </ul>\n",
    "</ol>"
   ]
  },
  {
   "cell_type": "markdown",
   "id": "88b7cc28",
   "metadata": {},
   "source": [
    "# Output Yang Diharapkan"
   ]
  },
  {
   "cell_type": "markdown",
   "id": "47796896",
   "metadata": {},
   "source": [
    "<ol>\n",
    "    <li> Laporan Proyek </li>\n",
    "    <ul>\n",
    "        <li> Panjang: 10-15 halaman </li>\n",
    "        <li> Isi: Deskripsi kasus, metodologi, hasil analisis, dan kesimpulan. </li>\n",
    "    </ul>\n",
    "    <li> Kode Program </li>\n",
    "    <ul>\n",
    "        <li> Unggah kode ke platform seperti GitHub atau Google Drive </li>\n",
    "        <li> Sertakan dokumentasi lengkap tentang cara menjalankan proyek. </li>\n",
    "    </ul>\n",
    "    <li> Video Presentasi </li>\n",
    "    <ul>\n",
    "        <li> Durasi: 10 menit </li>\n",
    "        <li> Isi: Penjelasan singkat proyek dan demonstrasi hasil. </li>\n",
    "    </ul>\n",
    "</ol>"
   ]
  },
  {
   "cell_type": "markdown",
   "id": "56a0ac75",
   "metadata": {},
   "source": [
    "# Kriteria Penilaian"
   ]
  },
  {
   "cell_type": "markdown",
   "id": "9ede2bf3",
   "metadata": {},
   "source": [
    "<ol>\n",
    "    <li> Pemilihan dan pemrosesan dataset (20%) </li>\n",
    "    <li> Pemilihan algoritma AI dan implementasi (30%) </li>\n",
    "    <li> Penggunaan alat Big Data (20%) </li>\n",
    "    <li> Visualisasi dan interpretasi hasil (20%) </li>\n",
    "    <li> Laporan dan presentasi (10%) </li>\n",
    "</ol>"
   ]
  },
  {
   "cell_type": "markdown",
   "id": "3f5134f1",
   "metadata": {},
   "source": [
    "# Dokumentasi Cara Menjalankan Proyek"
   ]
  },
  {
   "cell_type": "markdown",
   "id": "e05638e4",
   "metadata": {},
   "source": [
    "Untuk bisa menjalankan proyek ini diperlukan beberapa persiapan dengan langkah-langkah, diantaranya:\n",
    "\n",
    "<ol type=\"1\">\n",
    "    <li>Persiapan Python Jupyter Notebook dan Lingkungan PySpark</li>\n",
    "    <ol type=\"a\">\n",
    "        <li>Install Python</li>\n",
    "        <ul style=\"list-style-type:disc;\">\n",
    "            <li>Unduh Python</li>\n",
    "            Unduh versi terbaru Python dari situs resmi <a href=\"https://www.python.org/downloads/\">Python</a>.\n",
    "            <li>Instalasi Python</li>\n",
    "            Jalankan file installer (misalnya, <code>python-3.13.1.exe</code>) yang telah diunduh, lalu ikuti instruksi di layar. <b>Pastikan untuk mencentang opsi \"Add Python to PATH\"</b> saat instalasi.\n",
    "            <li>Verifikasi Instalasi</li>\n",
    "            <p>Buka Command Prompt dan ketik:</p>\n",
    "            <code>python --version</code>\n",
    "            <p>atau</p>\n",
    "            <code>python -V</code>\n",
    "            <p>Tekan Enter untuk memeriksa apakah Python sudah terinstal.</p>\n",
    "        </ul>\n",
    "        <li>Install Java Development Kit (JDK)</li>\n",
    "        <ul style=\"list-style-type:disc;\">\n",
    "            <li>Unduh JDK</li>\n",
    "            Unduh installer JDK terbaru dari situs resmi <a href=\"https://www.oracle.com/java/technologies/javase-downloads.html\">Oracle</a>.\n",
    "            <li>Instalasi JDK</li>\n",
    "            Jalankan installer dan ikuti petunjuk untuk menyelesaikan instalasi.\n",
    "            <li>Konfigurasi JAVA_HOME</li>\n",
    "            <ul style=\"list-style-type:circle;\">\n",
    "                <li>Tambahkan jalur instalasi JDK ke variabel lingkungan sistem <code>JAVA_HOME</code>.</li>\n",
    "                <li>Untuk memeriksa apakah Java sudah terinstal, buka Command Prompt dan ketik:</li>\n",
    "                <code>java --version</code>\n",
    "            </ul>\n",
    "        </ul>\n",
    "        <li>Install Apache Spark</li>\n",
    "        <ul style=\"list-style-type:disc;\">\n",
    "            <li>Unduh Apache Spark</li>\n",
    "            Kunjungi website <a href=\"https://spark.apache.org/downloads.html\">spark apache</a> dan unduh Apache Spark versi terbaru.\n",
    "            <li>Ekstraksi Spark</li>\n",
    "            Ekstrak file yang diunduh, lalu tambahkan jalur folder Spark yang diekstrak ke variabel lingkungan sistem <code>SPARK_HOME</code>.\n",
    "        </ul>\n",
    "        <li>Konfigurasi Hadoop (Opsional untuk Windows)</li>\n",
    "        <ul style=\"list-style-type:disc;\">\n",
    "            <li>Buat Folder Hadoop</li>\n",
    "            Buat folder bernama <code>hadoop</code>, lalu buat folder bernama <code>bin</code> di dalamnya.\n",
    "            <li>Unduh Winutils</li>\n",
    "            Unduh file <code>winutils</code> dari <a href=\"https://github.com/steveloughran/winutils\">github</a> dan simpan di folder <code>bin</code> yang telah dibuat.\n",
    "            <li>Konfigurasi HADOOP_HOME</li>\n",
    "            Tambahkan jalur folder Hadoop ke variabel lingkungan sistem <code>HADOOP_HOME</code>.\n",
    "        </ul>\n",
    "        <li>Instalasi Jupyter Notebook</li>\n",
    "        <p>Jupyter Notebook digunakan untuk menjalankan kode Python. Instalasi dapat dilakukan dengan buka command prompt dan jalankan perintah berikut:</p>\n",
    "        <code>pip install notebook</code>\n",
    "        <li>Instalasi Library Pendukung</li>\n",
    "        <p>Install library pendukung lainnya, seperti Matplotlib dan findspark dengan buka command prompt dan jalankan perintah berikut:</p>\n",
    "        <code>pip install matplotlib findspark</code>\n",
    "        <li>Install PySpark</li>\n",
    "        <ul style=\"list-style-type:disc;\">\n",
    "            <li>Install dengan pip</li>\n",
    "            <p>Buka Command Prompt dan jalankan perintah berikut:</p>\n",
    "            <code>pip install pyspark</code>\n",
    "            <li>Konfigurasi PYSPARK_HOME</li>\n",
    "            Tambahkan jalur instalasi PySpark ke variabel lingkungan sistem <code>PYSPARK_HOME</code>.\n",
    "        </ul>\n",
    "        <li>Menjalankan PySpark dan Jupyter Notebook dan Verifikasi Instalasi</li>\n",
    "        <ul style=\"list-style-type: disc;\">\n",
    "            <li>Tambahkan Semua Variabel ke PATH</li>\n",
    "            <p>Pastikan semua variabel lingkungan (<code>JAVA_HOME</code>, <code>SPARK_HOME</code>, <code>PYSPARK_HOME</code>, dan <code>HADOOP_HOME</code>) ditambahkan ke variabel sistem <code>PATH</code>.</p>\n",
    "            <li>Memulai PySpark di Terminal</li>\n",
    "            <p>Pastikan PySpark dapat dijalankan dengan perintah:</p>\n",
    "            <code>pyspark</code>\n",
    "            <p>Jika berjalan dengan benar, Anda akan melihat antarmuka PySpark di terminal.</p>\n",
    "            <li>Menjalankan Jupyter Notebook</li>\n",
    "            <p>Jalankan Jupyter Notebook dari terminal dengan perintah berikut:</p>\n",
    "            <code>jupyter notebook</code>\n",
    "            <p>Setelah dijalankan, Jupyter Notebook akan terbuka di browser Anda.</p>\n",
    "            <li>Jalankan Kode Verifikasi</li>\n",
    "            <p>Buat sebuah file <code>.ipynb</code> di Jupyter Notebook dan tuliskan kode berikut lalu jalankan kodenya untuk memverifikasi instalasi:</p>\n",
    "            <code>\n",
    "from pyspark.sql import SparkSession\n",
    "spark = SparkSession.builder.master(\"local\").appName(\"PySpark Installation Test\").getOrCreate()\n",
    "df = spark.createDataFrame([(1, \"Hello\"), (2, \"World\")], [\"id\", \"message\"])\n",
    "df.show()\n",
    "            </code>\n",
    "            <p>Output yang diharapkan:</p>\n",
    "            <code>\n",
    "+---+-------+\n",
    "| id|message|\n",
    "+---+-------+\n",
    "|  1|  Hello|\n",
    "|  2|  World|\n",
    "+---+-------+\n",
    "            </code>\n",
    "        </ul>\n",
    "        <li>Hal-Hal Penting dalam Instalasi PySpark di Windows</li>\n",
    "        <ul style=\"list-style-type:disc;\">\n",
    "            <li>Pastikan versi Apache Spark dan PySpark kompatibel.</li>\n",
    "            <li>Restart Command Prompt setelah menambahkan variabel lingkungan.</li>\n",
    "            <li>Ikuti dokumentasi resmi PySpark untuk tetap mendapatkan pembaruan terbaru.</li>\n",
    "        </ul>\n",
    "    </ol>\n",
    "    <li>Persiapan Dataset</li>\n",
    "    <ol type=\"a\">\n",
    "        <li>Unduh Dataset</li>\n",
    "        Dataset yang digunakan adalah Amazon Books Reviews, yang dapat diunduh dari <a href=\"https://www.kaggle.com/datasets/mohamedbakhet/amazon-books-reviews\">Kaggle</a>.\n",
    "        <li>Simpan Dataset</li>\n",
    "        <p>Simpan dataset ke dalam direktori proyek Anda, misalnya:</p>\n",
    "        <code>dataset-amazon-books-reviews/Books_rating.csv</code>\n",
    "        <p>Pastikan lokasi file sudah benar karena akan digunakan dalam kode untuk membaca dataset.</p>\n",
    "    </ol>\n",
    "    <li>Menjalankan Kode di Jupyter Notebook</li>\n",
    "    <ol type=\"a\">\n",
    "        <li>Jalankan Notebook</li>\n",
    "        <ul style=\"list-style-type:disc;\">\n",
    "            <li>Buka file notebook tugas (<code>.ipynb</code>) di Jupyter Notebook.</li>\n",
    "            <li>Pastikan seluruh cell dijalankan secara berurutan.</li>\n",
    "        </ul>\n",
    "        <li>Verifikasi Output</li>\n",
    "        Jika output seperti berikut muncul:\n",
    "        <ul style=\"list-style-type:disc;\">\n",
    "            <li><b>Pra-pemrosesan Data</b>: Tidak ada nilai NaN atau kesalahan dalam proses pembersihan teks.</li>\n",
    "            <li><b>Evaluasi Model</b>: Hasil akurasi model ditampilkan di terminal dengan format seperti:</li>\n",
    "            <code>Accuracy: 85.67%</code>\n",
    "            <li><b>Visualisasi Sentimen</b>: Grafik distribusi sentimen positif dan negatif ditampilkan menggunakan Matplotlib.</li>\n",
    "        </ul>\n",
    "        Maka, proyek berhasil dijalankan. Jika terjadi kesalahan, pastikan semua library dan dataset sudah disiapkan dengan benar sesuai langkah-langkah di atas.\n",
    "    </ol>\n",
    "</ol>\n",
    "\n",
    "Dengan mengikuti semua langkah di atas, Anda dapat memastikan proyek dapat dijalankan dengan lancar dari awal hingga akhir."
   ]
  },
  {
   "cell_type": "markdown",
   "id": "6ea23354",
   "metadata": {},
   "source": [
    "# Code Program"
   ]
  },
  {
   "attachments": {
    "image.png": {
     "image/png": "[encoded data removed]"
    }
   },
   "cell_type": "markdown",
   "id": "4c33a95e",
   "metadata": {},
   "source": [
    "Kasus Yang Dipilih: Analisis Sentimen Pelanggan\n",
    "\n",
    "Dataset Yang Digunakan: <a href=\"https://www.kaggle.com/datasets/mohamedbakhet/amazon-books-reviews/code\"> Amazon Books Reviews </a>\n",
    "\n",
    "Deskripsi Dataset: \n",
    "\n",
    "![image.png](attachment:image.png)\n",
    "\n",
    "Dataset ini terdiri dari 2 file sebagaimana terlihat pada gambar di atas.\n",
    "\n",
    "File pertama adalah reviews (Books_rating.csv), yang berisi umpan balik dari 3 juta pengguna tentang 212.404 buku unik. Dataset ini merupakan bagian dari Amazon review Dataset yang mencakup ulasan produk dan metadata dari Amazon, dengan total 142,8 juta ulasan yang mencakup periode Mei 1996 - Juli 2014.\n",
    "\n",
    "File ini memiliki atribut-atribut berikut:\n",
    "\n",
    "| Features | Description |\n",
    "| :-: | :-: |\n",
    "| id | The Id of Book |\n",
    "| Title | Book Title |\n",
    "| Price | The price of Book |\n",
    "| User_id | Id of the user who rates the book |\n",
    "| profileName | Name of the user who rates the book |\n",
    "| review/helpfulness | helpfulness rating of the review, e.g. 2/3 |\n",
    "| review/score | rating from 0 to 5 for the book |\n",
    "| review/time | time of given the review |\n",
    "| review/summary | the summary of a text review |\n",
    "| review/text | the full text of a review |\n",
    "\n",
    "File kedua adalah Books Details (books_data.csv), yang berisi informasi detail tentang 212.404 buku unik. File ini dibuat menggunakan\n",
    "\n",
    "<a href=\"https://developers.google.com/books/docs/overview\">google books API</a> untuk mendapatkan informasi detail tentang buku-buku yang telah dinilai pada file pertama.\n",
    "\n",
    "File ini memiliki atribut-atribut berikut:\n",
    "\n",
    "| Features | Description |\n",
    "| :-: | :-: |\n",
    "| Title | Book Title |\n",
    "| Descripe | decription of book |\n",
    "| authors | Neme of book authors |\n",
    "| image | url for book cover |\n",
    "| previewLink | link to access this book on google Books |\n",
    "| publisher | Name of the publisheer |\n",
    "| publishedDate | the date of publish |\n",
    "| infoLink | link to get more information about the book on google books |\n",
    "| categories | genres of books |\n",
    "| ratingsCount | averaging rating for book |"
   ]
  },
  {
   "cell_type": "markdown",
   "id": "bb39b4dc",
   "metadata": {},
   "source": [
    "## Load necessary libraries"
   ]
  },
  {
   "cell_type": "markdown",
   "id": "35b6c7dc",
   "metadata": {},
   "source": [
    "Dalam langkah ini, memuat pustaka diperlukan dalam analisis data, pemrosesan teks, dan membangun model machine learning. Disini digunakan PySpark untuk pemrosesan big data, pustaka `matplotlib` untuk visualisasi data, dan pustaka lain seperti `findspark` untuk memulai lingkungan Spark."
   ]
  },
  {
   "cell_type": "code",
   "execution_count": null,
   "id": "980f9e9f",
   "metadata": {},
   "outputs": [],
   "source": [
    "from pyspark.sql.functions import col, lower, regexp_replace, sum, isnan\n",
    "from pyspark.ml.feature import Tokenizer, StopWordsRemover, CountVectorizer, IDF\n",
    "from pyspark.ml.classification import LogisticRegression\n",
    "from pyspark.ml.evaluation import MulticlassClassificationEvaluator\n",
    "from pyspark.ml import Pipeline\n",
    "import matplotlib.pyplot as plt"
   ]
  },
  {
   "cell_type": "markdown",
   "id": "dd181c4f",
   "metadata": {},
   "source": [
    "## Setup PySpark"
   ]
  },
  {
   "cell_type": "markdown",
   "id": "79e2ea40",
   "metadata": {},
   "source": [
    "PySpark adalah framework untuk pemrosesan data besar yang memungkinkan distribusi pekerjaan ke beberapa node. SparkSession dimulai dengan melalukan konfigurasi khusus, seperti alokasi memori besar dan pengaturan timeout, untuk memastikan efisiensi dan stabilitas saat bekerja dengan dataset besar."
   ]
  },
  {
   "cell_type": "code",
   "execution_count": null,
   "id": "669dab04",
   "metadata": {},
   "outputs": [],
   "source": [
    "# Import library findspark dan inisialisasi PySpark\n",
    "import findspark\n",
    "findspark.init()\n",
    "\n",
    "# Memulai SparkSession dengan konfigurasi tambahan\n",
    "from pyspark.sql import SparkSession\n",
    "\n",
    "spark = SparkSession.builder \\\n",
    "    .appName(\"SentimentAnalysis\") \\\n",
    "    .master(\"local[*]\") \\\n",
    "    .config(\"spark.driver.memory\", \"8g\") \\\n",
    "    .config(\"spark.executor.memory\", \"8g\") \\\n",
    "    .config(\"spark.driver.host\", \"127.0.0.1\") \\\n",
    "    .config(\"spark.network.timeout\", \"12000s\") \\\n",
    "    .config(\"spark.executor.heartbeatInterval\", \"10000s\") \\\n",
    "    .getOrCreate()\n",
    "\n",
    "# Cetak informasi SparkSession untuk memastikan setup berhasil dan Verifikasi SparkContext\n",
    "print(spark)\n",
    "sc = spark.sparkContext\n",
    "print(\"SparkContext:\", sc)\n",
    "print(\"Spark version:\", sc.version)"
   ]
  },
  {
   "cell_type": "markdown",
   "id": "87fd011d",
   "metadata": {},
   "source": [
    "## Load Dataset"
   ]
  },
  {
   "cell_type": "markdown",
   "id": "ff105eb9",
   "metadata": {},
   "source": [
    "Dataset diunggah menggunakan Spark DataFrame. Dataset berupa file CSV yang berisi ulasan buku dari Amazon. Proses ini memungkinkan untuk melihat struktur data dan memverifikasi bahwa dataset berhasil dimuat dengan benar."
   ]
  },
  {
   "cell_type": "code",
   "execution_count": null,
   "id": "c23f05a8",
   "metadata": {
    "scrolled": true
   },
   "outputs": [],
   "source": [
    "data_path = \"dataset-amazon-books-reviews/Books_rating.csv\"  # Replace with the actual path\n",
    "data = spark.read.csv(data_path, header=True, inferSchema=True)\n",
    "data.show(5)"
   ]
  },
  {
   "cell_type": "markdown",
   "id": "34434ebd",
   "metadata": {},
   "source": [
    "## Preprocessing Data"
   ]
  },
  {
   "cell_type": "markdown",
   "id": "49483f41",
   "metadata": {},
   "source": [
    "Pra-pemrosesan dilakukan untuk menyiapkan data untuk pelatihan model, dengan langkah-langkahnya diantaranya:\n",
    "1. **Memilih Kolom Relevan**: Hanya memilih kolom ulasan teks dan skor ulasan karena keduanya relevan untuk analisis sentimen.\n",
    "2. **Menghapus Nilai Null**: Menghapus data yang tidak lengkap agar tidak memengaruhi kualitas model.\n",
    "3. **Membersihkan Teks**: Teks ulasan diubah menjadi huruf kecil, dan karakter yang tidak diinginkan (seperti tanda baca) dihapus. Ini penting untuk meningkatkan akurasi model pemrosesan teks.\n",
    "4. **Konversi Skor Menjadi Label Biner**: Skor ulasan dikonversi menjadi sentimen biner dengan aturan: skor > 3 dianggap positif (label = 1), dan skor <= 3 dianggap negatif (label = 0).\n",
    "5. **Menghapus Nilai Label Null/NaN**: Baris dengan nilai label null atau NaN dihapus untuk memastikan data bersih sebelum pelatihan model.\n",
    "6. **Tokenisasi dan Penghapusan Stopwords**: Kata-kata dalam teks dipecah menjadi token dan kata-kata umum yang tidak berarti (stopwords) dihapus.\n",
    "7. **Vektorisasi dan IDF**: Fitur teks dikonversi menjadi representasi numerik menggunakan CountVectorizer dan diubah menjadi bobot penting menggunakan IDF."
   ]
  },
  {
   "cell_type": "code",
   "execution_count": null,
   "id": "6ebfe39e",
   "metadata": {},
   "outputs": [],
   "source": [
    "# Select relevant columns\n",
    "selected_data = data.select(\"review/text\", \"review/score\")\n",
    "\n",
    "# Periksa nilai null di dataset\n",
    "print(\"=== Jumlah Nilai NaN Dalam Data ===\")\n",
    "selected_data.select([sum(isnan(col(c)).cast(\"int\")).alias(c) for c in selected_data.columns]).show()\n",
    "\n",
    "# Menghapus baris dengan nilai null\n",
    "selected_data = selected_data.na.drop()\n",
    "\n",
    "# Clean text (lowercase, remove punctuation)\n",
    "cleaned_data = selected_data.withColumn(\n",
    "    \"clean_text\",\n",
    "    lower(regexp_replace(col(\"review/text\"), \"[^a-zA-Z0-9\\s]\", \"\"))\n",
    ")"
   ]
  },
  {
   "cell_type": "code",
   "execution_count": null,
   "id": "a63378c8",
   "metadata": {},
   "outputs": [],
   "source": [
    "# Periksa lagi nilai null di dataset\n",
    "print(\"=== Jumlah Nilai NaN Dalam Data ===\")\n",
    "selected_data.select([sum(isnan(col(c)).cast(\"int\")).alias(c) for c in selected_data.columns]).show()"
   ]
  },
  {
   "cell_type": "code",
   "execution_count": null,
   "id": "1d7cbf58",
   "metadata": {},
   "outputs": [],
   "source": [
    "# Tokenize, remove stopwords, and vectorize\n",
    "tokenizer = Tokenizer(inputCol=\"clean_text\", outputCol=\"tokens\")\n",
    "stopwords_remover = StopWordsRemover(inputCol=\"tokens\", outputCol=\"filtered_tokens\")\n",
    "count_vectorizer = CountVectorizer(inputCol=\"filtered_tokens\", outputCol=\"raw_features\")\n",
    "idf = IDF(inputCol=\"raw_features\", outputCol=\"features\")"
   ]
  },
  {
   "cell_type": "code",
   "execution_count": null,
   "id": "e14cd2a7",
   "metadata": {},
   "outputs": [],
   "source": [
    "# Convert review scores into binary sentiment (positive: score > 3, negative: score <= 3)\n",
    "labeled_data = cleaned_data.withColumn(\n",
    "    \"label\", (col(\"review/score\") > 3).cast(\"integer\")\n",
    ")\n",
    "\n",
    "# Periksa jika ada nilai null atau NaN di kolom label\n",
    "print(\"=== Jumlah Nilai Null/NaN di Label ===\")\n",
    "labeled_data.select([sum(col(\"label\").isNull().cast(\"int\")).alias(\"NullLabels\")]).show()\n",
    "\n",
    "# Hapus baris dengan nilai label null atau NaN\n",
    "labeled_data = labeled_data.filter(col(\"label\").isNotNull())"
   ]
  },
  {
   "cell_type": "code",
   "execution_count": null,
   "id": "eea5c383",
   "metadata": {
    "scrolled": true
   },
   "outputs": [],
   "source": [
    "# Periksa lagi jika ada nilai null atau NaN di kolom label\n",
    "print(\"=== Jumlah Nilai Null/NaN di Label ===\")\n",
    "labeled_data.select([sum(col(\"label\").isNull().cast(\"int\")).alias(\"NullLabels\")]).show()"
   ]
  },
  {
   "cell_type": "markdown",
   "id": "3a48b8c8",
   "metadata": {},
   "source": [
    "## Define and Build Model with Pipeline"
   ]
  },
  {
   "cell_type": "markdown",
   "id": "67225d3c",
   "metadata": {},
   "source": [
    "Logistic Regression merupakan model machine learning yang sederhana namun efektif untuk klasifikasi biner. Logistic Regression dipilih karena dapat menangani fitur teks numerik dengan baik setelah vektorisasi. Adapun Pipeline Spark juga digunakan untuk mengotomatisasi urutan langkah preprocessing dan pelatihan model, sehingga memudahkan pengelolaan data besar.\n"
   ]
  },
  {
   "cell_type": "code",
   "execution_count": null,
   "id": "42ae9a08",
   "metadata": {},
   "outputs": [],
   "source": [
    "# Split data menjadi training dan testing set\n",
    "train_data, test_data = labeled_data.randomSplit([0.8, 0.2], seed=42)\n",
    "\n",
    "# Logistic Regression Model\n",
    "lr = LogisticRegression(featuresCol=\"features\", labelCol=\"label\")\n",
    "\n",
    "# Build pipeline\n",
    "pipeline = Pipeline(stages=[tokenizer, stopwords_remover, count_vectorizer, idf, lr])\n",
    "\n",
    "# Fit the model\n",
    "model = pipeline.fit(train_data)"
   ]
  },
  {
   "cell_type": "markdown",
   "id": "b431dd32",
   "metadata": {},
   "source": [
    "## Evaluate the Model"
   ]
  },
  {
   "cell_type": "markdown",
   "id": "b2ef2c18",
   "metadata": {},
   "source": [
    "Untuk mengevaluasi kinerja model, data uji digunakan dalam hal ini dan untuk menghitung akurasi digunakan evaluator `MulticlassClassificationEvaluator`. Akurasi memberikan gambaran seberapa baik model dapat membedakan ulasan positif dan negatif."
   ]
  },
  {
   "cell_type": "code",
   "execution_count": null,
   "id": "2d0ca636",
   "metadata": {},
   "outputs": [],
   "source": [
    "predictions = model.transform(test_data)\n",
    "evaluator = MulticlassClassificationEvaluator(labelCol=\"label\", predictionCol=\"prediction\", metricName=\"accuracy\")\n",
    "accuracy = evaluator.evaluate(predictions)\n",
    "print(f\"Accuracy: {accuracy * 100:.2f}%\")"
   ]
  },
  {
   "cell_type": "markdown",
   "id": "508ecee0",
   "metadata": {},
   "source": [
    "## Visualize Results"
   ]
  },
  {
   "cell_type": "markdown",
   "id": "60bf22c2",
   "metadata": {},
   "source": [
    "Hasil prediksi divisualisasikan dengan menghitung jumlah ulasan positif dan negatif dalam data uji. Visualisasi ini membantu memahami distribusi sentimen di dataset dan memvalidasi kinerja model secara intuitif."
   ]
  },
  {
   "cell_type": "code",
   "execution_count": null,
   "id": "86aa84bb",
   "metadata": {},
   "outputs": [],
   "source": [
    "# Count positive and negative reviews in test data\n",
    "sentiment_counts = predictions.groupBy(\"label\").count().toPandas()\n",
    "sentiment_counts.plot(kind=\"bar\", x=\"label\", y=\"count\", legend=False, color=[\"red\", \"blue\"])\n",
    "plt.title(\"Sentiment Distribution in Test Data\")\n",
    "plt.xlabel(\"Sentiment (0: Negative, 1: Positive)\")\n",
    "plt.ylabel(\"Count\")\n",
    "plt.xticks(rotation=0)\n",
    "plt.show()"
   ]
  },
  {
   "cell_type": "markdown",
   "id": "a2bc2c18",
   "metadata": {},
   "source": [
    "## Conclusions"
   ]
  },
  {
   "cell_type": "markdown",
   "id": "d8b82b71",
   "metadata": {},
   "source": [
    "Kesimpulan diambil berdasarkan hasil visualisasi dan akurasi model. Logistic Regression cukup baik dalam menangkap pola sentimen ulasan. Dengan sentimen positif lebih banyak daripada sentimen negatif. Namun, akurasi dapat ditingkatkan dengan model atau teknik lebih kompleks seperti neural networks."
   ]
  },
  {
   "cell_type": "code",
   "execution_count": null,
   "id": "388a41d1",
   "metadata": {},
   "outputs": [],
   "source": [
    "# Count positive and negative reviews in test data\n",
    "sentiment_counts = predictions.groupBy(\"label\").count().collect()\n",
    "\n",
    "# Print the results\n",
    "for row in sentiment_counts:\n",
    "    sentiment = \"Positive\" if row[\"label\"] == 1 else \"Negative\"\n",
    "    print(f\"Terdapat Review Sentimen {sentiment} Sebanyak: {row['count']}\")\n",
    "    \n",
    "print(\"Model mencapai akurasi sebesar {:.2f}% pada data uji. Hal ini menunjukkan bahwa model mampu membedakan ulasan positif dan negatif berdasarkan konten teks dengan baik.\".format(accuracy * 100))"
   ]
  }
 ],
 "metadata": {
  "kernelspec": {
   "display_name": "Python 3 (ipykernel)",
   "language": "python",
   "name": "python3"
  },
  "language_info": {
   "codemirror_mode": {
    "name": "ipython",
    "version": 3
   },
   "file_extension": ".py",
   "mimetype": "text/x-python",
   "name": "python",
   "nbconvert_exporter": "python",
   "pygments_lexer": "ipython3",
   "version": "3.7.6"
  }
 },
 "nbformat": 4,
 "nbformat_minor": 5
}
