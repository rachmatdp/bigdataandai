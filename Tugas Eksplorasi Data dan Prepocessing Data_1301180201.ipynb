{
 "cells": [
  {
   "cell_type": "markdown",
   "id": "8a722419",
   "metadata": {},
   "source": [
    "**Tugas MidTerm Big Data dan AI**  \n",
    "<br>\n",
    "<ul style=\"list-style-type:none;\">\n",
    "    <li>Nama: Rachmat Dwi Putra </li>\n",
    "    <li>NIM : 1301180201 </li>\n",
    "</ul>"
   ]
  },
  {
   "cell_type": "markdown",
   "id": "cb2e1c60",
   "metadata": {},
   "source": [
    "# Setup Library"
   ]
  },
  {
   "cell_type": "code",
   "execution_count": 1,
   "id": "66f0211b",
   "metadata": {},
   "outputs": [],
   "source": [
    "import pandas as pd\n",
    "import numpy as np\n",
    "import seaborn as sns\n",
    "import matplotlib.pyplot as plt\n",
    "from sklearn.preprocessing import StandardScaler, LabelEncoder, OneHotEncoder\n",
    "from sklearn.impute import SimpleImputer"
   ]
  },
  {
   "cell_type": "markdown",
   "id": "5957cde8",
   "metadata": {},
   "source": [
    "# Load Dataset"
   ]
  },
  {
   "cell_type": "code",
   "execution_count": 2,
   "id": "09be6e25",
   "metadata": {},
   "outputs": [
    {
     "data": {
      "text/html": [
       "<div>\n",
       "<style scoped>\n",
       "    .dataframe tbody tr th:only-of-type {\n",
       "        vertical-align: middle;\n",
       "    }\n",
       "\n",
       "    .dataframe tbody tr th {\n",
       "        vertical-align: top;\n",
       "    }\n",
       "\n",
       "    .dataframe thead th {\n",
       "        text-align: right;\n",
       "    }\n",
       "</style>\n",
       "<table border=\"1\" class=\"dataframe\">\n",
       "  <thead>\n",
       "    <tr style=\"text-align: right;\">\n",
       "      <th></th>\n",
       "      <th>PassengerId</th>\n",
       "      <th>Survived</th>\n",
       "      <th>Pclass</th>\n",
       "      <th>Name</th>\n",
       "      <th>Sex</th>\n",
       "      <th>Age</th>\n",
       "      <th>SibSp</th>\n",
       "      <th>Parch</th>\n",
       "      <th>Ticket</th>\n",
       "      <th>Fare</th>\n",
       "      <th>Cabin</th>\n",
       "      <th>Embarked</th>\n",
       "    </tr>\n",
       "  </thead>\n",
       "  <tbody>\n",
       "    <tr>\n",
       "      <th>0</th>\n",
       "      <td>1</td>\n",
       "      <td>0</td>\n",
       "      <td>3</td>\n",
       "      <td>Braund, Mr. Owen Harris</td>\n",
       "      <td>male</td>\n",
       "      <td>22.0</td>\n",
       "      <td>1</td>\n",
       "      <td>0</td>\n",
       "      <td>A/5 21171</td>\n",
       "      <td>7.2500</td>\n",
       "      <td>NaN</td>\n",
       "      <td>S</td>\n",
       "    </tr>\n",
       "    <tr>\n",
       "      <th>1</th>\n",
       "      <td>2</td>\n",
       "      <td>1</td>\n",
       "      <td>1</td>\n",
       "      <td>Cumings, Mrs. John Bradley (Florence Briggs Th...</td>\n",
       "      <td>female</td>\n",
       "      <td>38.0</td>\n",
       "      <td>1</td>\n",
       "      <td>0</td>\n",
       "      <td>PC 17599</td>\n",
       "      <td>71.2833</td>\n",
       "      <td>C85</td>\n",
       "      <td>C</td>\n",
       "    </tr>\n",
       "    <tr>\n",
       "      <th>2</th>\n",
       "      <td>3</td>\n",
       "      <td>1</td>\n",
       "      <td>3</td>\n",
       "      <td>Heikkinen, Miss. Laina</td>\n",
       "      <td>female</td>\n",
       "      <td>26.0</td>\n",
       "      <td>0</td>\n",
       "      <td>0</td>\n",
       "      <td>STON/O2. 3101282</td>\n",
       "      <td>7.9250</td>\n",
       "      <td>NaN</td>\n",
       "      <td>S</td>\n",
       "    </tr>\n",
       "    <tr>\n",
       "      <th>3</th>\n",
       "      <td>4</td>\n",
       "      <td>1</td>\n",
       "      <td>1</td>\n",
       "      <td>Futrelle, Mrs. Jacques Heath (Lily May Peel)</td>\n",
       "      <td>female</td>\n",
       "      <td>35.0</td>\n",
       "      <td>1</td>\n",
       "      <td>0</td>\n",
       "      <td>113803</td>\n",
       "      <td>53.1000</td>\n",
       "      <td>C123</td>\n",
       "      <td>S</td>\n",
       "    </tr>\n",
       "    <tr>\n",
       "      <th>4</th>\n",
       "      <td>5</td>\n",
       "      <td>0</td>\n",
       "      <td>3</td>\n",
       "      <td>Allen, Mr. William Henry</td>\n",
       "      <td>male</td>\n",
       "      <td>35.0</td>\n",
       "      <td>0</td>\n",
       "      <td>0</td>\n",
       "      <td>373450</td>\n",
       "      <td>8.0500</td>\n",
       "      <td>NaN</td>\n",
       "      <td>S</td>\n",
       "    </tr>\n",
       "  </tbody>\n",
       "</table>\n",
       "</div>"
      ],
      "text/plain": [
       "   PassengerId  Survived  Pclass  \\\n",
       "0            1         0       3   \n",
       "1            2         1       1   \n",
       "2            3         1       3   \n",
       "3            4         1       1   \n",
       "4            5         0       3   \n",
       "\n",
       "                                                Name     Sex   Age  SibSp  \\\n",
       "0                            Braund, Mr. Owen Harris    male  22.0      1   \n",
       "1  Cumings, Mrs. John Bradley (Florence Briggs Th...  female  38.0      1   \n",
       "2                             Heikkinen, Miss. Laina  female  26.0      0   \n",
       "3       Futrelle, Mrs. Jacques Heath (Lily May Peel)  female  35.0      1   \n",
       "4                           Allen, Mr. William Henry    male  35.0      0   \n",
       "\n",
       "   Parch            Ticket     Fare Cabin Embarked  \n",
       "0      0         A/5 21171   7.2500   NaN        S  \n",
       "1      0          PC 17599  71.2833   C85        C  \n",
       "2      0  STON/O2. 3101282   7.9250   NaN        S  \n",
       "3      0            113803  53.1000  C123        S  \n",
       "4      0            373450   8.0500   NaN        S  "
      ]
     },
     "execution_count": 2,
     "metadata": {},
     "output_type": "execute_result"
    }
   ],
   "source": [
    "df_titanic = pd.read_csv(\"Titanic-Dataset.csv\") \n",
    "df_titanic.head()"
   ]
  },
  {
   "cell_type": "markdown",
   "id": "f30a99f4",
   "metadata": {},
   "source": [
    "# Deskripsi Data"
   ]
  },
  {
   "cell_type": "markdown",
   "id": "cad0889e",
   "metadata": {},
   "source": [
    "Karamnya kapal Titanic adalah salah satu insiden tenggelam kapal yang paling terkenal dalam sejarah. Pada 15 April 1912, dalam pelayaran perdananya, kapal RMS Titanic yang dianggap “tidak bisa tenggelam” tenggelam setelah bertabrakan dengan gunung es. Sayangnya, tidak tersedia cukup sekoci bagi semua orang di kapal, yang menyebabkan 1.502 orang dari 2.224 penumpang dan awak meninggal dunia.\n",
    "\n",
    "Beberapa kelompok orang lebih cenderung selamat dibandingkan yang lain, yang menjadikan data ini menarik untuk dianalisis guna memahami faktor-faktor yang mempengaruhi tingkat keselamatan mereka.\n",
    "\n",
    "Dataset ini digunakan untuk membangun model prediktif yang menjawab pertanyaan: “jenis orang seperti apa yang lebih mungkin selamat?” dengan menggunakan data penumpang (seperti nama, usia, jenis kelamin, kelas sosial-ekonomi, dll.).\n",
    "\n",
    "Penjelasan Kolom:\n",
    "\n",
    "<ul>\n",
    "    <li> PassengerId: ID unik setiap penumpang </li>\n",
    "    <li> Survived: Apakah penumpang selamat atau tidak (0 = Tidak, 1 = Ya) </li>\n",
    "    <li> Pclass: Kelas tiket penumpang (1 = Kelas 1, 2 = Kelas 2, 3 = Kelas 3) </li>\n",
    "    <li> Name: Nama penumpang </li>\n",
    "    <li> Sex: Jenis kelamin </li>\n",
    "    <li> Age: Usia dalam tahun </li>\n",
    "    <li> SibSp: Jumlah saudara atau pasangan di kapal </li>\n",
    "    <li> Parch: Jumlah orang tua atau anak di kapal </li>\n",
    "    <li> Ticket: Nomor tiket </li>\n",
    "    <li> Fare: Biaya tiket penumpang </li>\n",
    "    <li> Cabin: Nomor kabin atau area di mana penumpang ditempatkan di dalam kapal.</li>\n",
    "    <li> Embarked: Pelabuhan tempat penumpang naik ke kapal Titanic (C = Cherbourg, Q = Queenstown, S = Southampton)</li>\n",
    "</ul>"
   ]
  },
  {
   "cell_type": "markdown",
   "id": "7a20b04a",
   "metadata": {},
   "source": [
    "# 1. Eksplorasi Data"
   ]
  },
  {
   "cell_type": "markdown",
   "id": "f3f858ff",
   "metadata": {},
   "source": [
    "<ul>\n",
    "    <li> Unduh dataset https://www.kaggle.com/datasets/yasserh/titanic-dataset/data </li>\n",
    "    <li> Tampilkan informasi dasar tentang dataset (jumlah baris, kolom, tipe data). </li>\n",
    "    <li> Lakukan eksplorasi statistik deskriptif (mean, median, distribusi, dll.). </li>\n",
    "    <li> Visualisasikan beberapa fitur utama menggunakan grafik (histogram, scatterplot, dll.). </li>\n",
    "</ul>"
   ]
  },
  {
   "cell_type": "markdown",
   "id": "1e307d3d",
   "metadata": {},
   "source": [
    "## a. Informasi dasar tentang dataset"
   ]
  },
  {
   "cell_type": "code",
   "execution_count": 3,
   "id": "6d63c432",
   "metadata": {},
   "outputs": [
    {
     "name": "stdout",
     "output_type": "stream",
     "text": [
      "<class 'pandas.core.frame.DataFrame'>\n",
      "RangeIndex: 891 entries, 0 to 890\n",
      "Data columns (total 12 columns):\n",
      " #   Column       Non-Null Count  Dtype  \n",
      "---  ------       --------------  -----  \n",
      " 0   PassengerId  891 non-null    int64  \n",
      " 1   Survived     891 non-null    int64  \n",
      " 2   Pclass       891 non-null    int64  \n",
      " 3   Name         891 non-null    object \n",
      " 4   Sex          891 non-null    object \n",
      " 5   Age          714 non-null    float64\n",
      " 6   SibSp        891 non-null    int64  \n",
      " 7   Parch        891 non-null    int64  \n",
      " 8   Ticket       891 non-null    object \n",
      " 9   Fare         891 non-null    float64\n",
      " 10  Cabin        204 non-null    object \n",
      " 11  Embarked     889 non-null    object \n",
      "dtypes: float64(2), int64(5), object(5)\n",
      "memory usage: 83.7+ KB\n"
     ]
    },
    {
     "data": {
      "text/html": [
       "<div>\n",
       "<style scoped>\n",
       "    .dataframe tbody tr th:only-of-type {\n",
       "        vertical-align: middle;\n",
       "    }\n",
       "\n",
       "    .dataframe tbody tr th {\n",
       "        vertical-align: top;\n",
       "    }\n",
       "\n",
       "    .dataframe thead th {\n",
       "        text-align: right;\n",
       "    }\n",
       "</style>\n",
       "<table border=\"1\" class=\"dataframe\">\n",
       "  <thead>\n",
       "    <tr style=\"text-align: right;\">\n",
       "      <th></th>\n",
       "      <th>PassengerId</th>\n",
       "      <th>Survived</th>\n",
       "      <th>Pclass</th>\n",
       "      <th>Name</th>\n",
       "      <th>Sex</th>\n",
       "      <th>Age</th>\n",
       "      <th>SibSp</th>\n",
       "      <th>Parch</th>\n",
       "      <th>Ticket</th>\n",
       "      <th>Fare</th>\n",
       "      <th>Cabin</th>\n",
       "      <th>Embarked</th>\n",
       "    </tr>\n",
       "  </thead>\n",
       "  <tbody>\n",
       "    <tr>\n",
       "      <th>count</th>\n",
       "      <td>891.000000</td>\n",
       "      <td>891.000000</td>\n",
       "      <td>891.000000</td>\n",
       "      <td>891</td>\n",
       "      <td>891</td>\n",
       "      <td>714.000000</td>\n",
       "      <td>891.000000</td>\n",
       "      <td>891.000000</td>\n",
       "      <td>891</td>\n",
       "      <td>891.000000</td>\n",
       "      <td>204</td>\n",
       "      <td>889</td>\n",
       "    </tr>\n",
       "    <tr>\n",
       "      <th>unique</th>\n",
       "      <td>NaN</td>\n",
       "      <td>NaN</td>\n",
       "      <td>NaN</td>\n",
       "      <td>891</td>\n",
       "      <td>2</td>\n",
       "      <td>NaN</td>\n",
       "      <td>NaN</td>\n",
       "      <td>NaN</td>\n",
       "      <td>681</td>\n",
       "      <td>NaN</td>\n",
       "      <td>147</td>\n",
       "      <td>3</td>\n",
       "    </tr>\n",
       "    <tr>\n",
       "      <th>top</th>\n",
       "      <td>NaN</td>\n",
       "      <td>NaN</td>\n",
       "      <td>NaN</td>\n",
       "      <td>Braund, Mr. Owen Harris</td>\n",
       "      <td>male</td>\n",
       "      <td>NaN</td>\n",
       "      <td>NaN</td>\n",
       "      <td>NaN</td>\n",
       "      <td>347082</td>\n",
       "      <td>NaN</td>\n",
       "      <td>B96 B98</td>\n",
       "      <td>S</td>\n",
       "    </tr>\n",
       "    <tr>\n",
       "      <th>freq</th>\n",
       "      <td>NaN</td>\n",
       "      <td>NaN</td>\n",
       "      <td>NaN</td>\n",
       "      <td>1</td>\n",
       "      <td>577</td>\n",
       "      <td>NaN</td>\n",
       "      <td>NaN</td>\n",
       "      <td>NaN</td>\n",
       "      <td>7</td>\n",
       "      <td>NaN</td>\n",
       "      <td>4</td>\n",
       "      <td>644</td>\n",
       "    </tr>\n",
       "    <tr>\n",
       "      <th>mean</th>\n",
       "      <td>446.000000</td>\n",
       "      <td>0.383838</td>\n",
       "      <td>2.308642</td>\n",
       "      <td>NaN</td>\n",
       "      <td>NaN</td>\n",
       "      <td>29.699118</td>\n",
       "      <td>0.523008</td>\n",
       "      <td>0.381594</td>\n",
       "      <td>NaN</td>\n",
       "      <td>32.204208</td>\n",
       "      <td>NaN</td>\n",
       "      <td>NaN</td>\n",
       "    </tr>\n",
       "    <tr>\n",
       "      <th>std</th>\n",
       "      <td>257.353842</td>\n",
       "      <td>0.486592</td>\n",
       "      <td>0.836071</td>\n",
       "      <td>NaN</td>\n",
       "      <td>NaN</td>\n",
       "      <td>14.526497</td>\n",
       "      <td>1.102743</td>\n",
       "      <td>0.806057</td>\n",
       "      <td>NaN</td>\n",
       "      <td>49.693429</td>\n",
       "      <td>NaN</td>\n",
       "      <td>NaN</td>\n",
       "    </tr>\n",
       "    <tr>\n",
       "      <th>min</th>\n",
       "      <td>1.000000</td>\n",
       "      <td>0.000000</td>\n",
       "      <td>1.000000</td>\n",
       "      <td>NaN</td>\n",
       "      <td>NaN</td>\n",
       "      <td>0.420000</td>\n",
       "      <td>0.000000</td>\n",
       "      <td>0.000000</td>\n",
       "      <td>NaN</td>\n",
       "      <td>0.000000</td>\n",
       "      <td>NaN</td>\n",
       "      <td>NaN</td>\n",
       "    </tr>\n",
       "    <tr>\n",
       "      <th>25%</th>\n",
       "      <td>223.500000</td>\n",
       "      <td>0.000000</td>\n",
       "      <td>2.000000</td>\n",
       "      <td>NaN</td>\n",
       "      <td>NaN</td>\n",
       "      <td>20.125000</td>\n",
       "      <td>0.000000</td>\n",
       "      <td>0.000000</td>\n",
       "      <td>NaN</td>\n",
       "      <td>7.910400</td>\n",
       "      <td>NaN</td>\n",
       "      <td>NaN</td>\n",
       "    </tr>\n",
       "    <tr>\n",
       "      <th>50%</th>\n",
       "      <td>446.000000</td>\n",
       "      <td>0.000000</td>\n",
       "      <td>3.000000</td>\n",
       "      <td>NaN</td>\n",
       "      <td>NaN</td>\n",
       "      <td>28.000000</td>\n",
       "      <td>0.000000</td>\n",
       "      <td>0.000000</td>\n",
       "      <td>NaN</td>\n",
       "      <td>14.454200</td>\n",
       "      <td>NaN</td>\n",
       "      <td>NaN</td>\n",
       "    </tr>\n",
       "    <tr>\n",
       "      <th>75%</th>\n",
       "      <td>668.500000</td>\n",
       "      <td>1.000000</td>\n",
       "      <td>3.000000</td>\n",
       "      <td>NaN</td>\n",
       "      <td>NaN</td>\n",
       "      <td>38.000000</td>\n",
       "      <td>1.000000</td>\n",
       "      <td>0.000000</td>\n",
       "      <td>NaN</td>\n",
       "      <td>31.000000</td>\n",
       "      <td>NaN</td>\n",
       "      <td>NaN</td>\n",
       "    </tr>\n",
       "    <tr>\n",
       "      <th>max</th>\n",
       "      <td>891.000000</td>\n",
       "      <td>1.000000</td>\n",
       "      <td>3.000000</td>\n",
       "      <td>NaN</td>\n",
       "      <td>NaN</td>\n",
       "      <td>80.000000</td>\n",
       "      <td>8.000000</td>\n",
       "      <td>6.000000</td>\n",
       "      <td>NaN</td>\n",
       "      <td>512.329200</td>\n",
       "      <td>NaN</td>\n",
       "      <td>NaN</td>\n",
       "    </tr>\n",
       "  </tbody>\n",
       "</table>\n",
       "</div>"
      ],
      "text/plain": [
       "        PassengerId    Survived      Pclass                     Name   Sex  \\\n",
       "count    891.000000  891.000000  891.000000                      891   891   \n",
       "unique          NaN         NaN         NaN                      891     2   \n",
       "top             NaN         NaN         NaN  Braund, Mr. Owen Harris  male   \n",
       "freq            NaN         NaN         NaN                        1   577   \n",
       "mean     446.000000    0.383838    2.308642                      NaN   NaN   \n",
       "std      257.353842    0.486592    0.836071                      NaN   NaN   \n",
       "min        1.000000    0.000000    1.000000                      NaN   NaN   \n",
       "25%      223.500000    0.000000    2.000000                      NaN   NaN   \n",
       "50%      446.000000    0.000000    3.000000                      NaN   NaN   \n",
       "75%      668.500000    1.000000    3.000000                      NaN   NaN   \n",
       "max      891.000000    1.000000    3.000000                      NaN   NaN   \n",
       "\n",
       "               Age       SibSp       Parch  Ticket        Fare    Cabin  \\\n",
       "count   714.000000  891.000000  891.000000     891  891.000000      204   \n",
       "unique         NaN         NaN         NaN     681         NaN      147   \n",
       "top            NaN         NaN         NaN  347082         NaN  B96 B98   \n",
       "freq           NaN         NaN         NaN       7         NaN        4   \n",
       "mean     29.699118    0.523008    0.381594     NaN   32.204208      NaN   \n",
       "std      14.526497    1.102743    0.806057     NaN   49.693429      NaN   \n",
       "min       0.420000    0.000000    0.000000     NaN    0.000000      NaN   \n",
       "25%      20.125000    0.000000    0.000000     NaN    7.910400      NaN   \n",
       "50%      28.000000    0.000000    0.000000     NaN   14.454200      NaN   \n",
       "75%      38.000000    1.000000    0.000000     NaN   31.000000      NaN   \n",
       "max      80.000000    8.000000    6.000000     NaN  512.329200      NaN   \n",
       "\n",
       "       Embarked  \n",
       "count       889  \n",
       "unique        3  \n",
       "top           S  \n",
       "freq        644  \n",
       "mean        NaN  \n",
       "std         NaN  \n",
       "min         NaN  \n",
       "25%         NaN  \n",
       "50%         NaN  \n",
       "75%         NaN  \n",
       "max         NaN  "
      ]
     },
     "execution_count": 3,
     "metadata": {},
     "output_type": "execute_result"
    }
   ],
   "source": [
    "df_titanic.info()\n",
    "\n",
    "df_titanic.describe(include='all')"
   ]
  },
  {
   "cell_type": "markdown",
   "id": "7b5f4e3f",
   "metadata": {},
   "source": [
    "## b. Visualisasi fitur utama"
   ]
  },
  {
   "cell_type": "code",
   "execution_count": 4,
   "id": "4164c12e",
   "metadata": {},
   "outputs": [
    {
     "data": {
      "image/png": "[encoded data removed]",
      "text/plain": [
       "<Figure size 1200x500 with 1 Axes>"
      ]
     },
     "metadata": {},
     "output_type": "display_data"
    },
    {
     "data": {
      "image/png": "[encoded data removed]",
      "text/plain": [
       "<Figure size 1200x500 with 1 Axes>"
      ]
     },
     "metadata": {},
     "output_type": "display_data"
    },
    {
     "data": {
      "image/png": "[encoded data removed]",
      "text/plain": [
       "<Figure size 1000x500 with 1 Axes>"
      ]
     },
     "metadata": {},
     "output_type": "display_data"
    }
   ],
   "source": [
    "plt.figure(figsize=(12, 5))\n",
    "sns.histplot(df_titanic['Age'], kde=True)\n",
    "plt.title('Distribusi Usia')\n",
    "plt.show()\n",
    "\n",
    "plt.figure(figsize=(12, 5))\n",
    "sns.histplot(df_titanic['Fare'], kde=True)\n",
    "plt.title('Distribusi Harga Tiket')\n",
    "plt.show()\n",
    "\n",
    "plt.figure(figsize=(10, 5))\n",
    "sns.countplot(data=df_titanic, x='Survived')\n",
    "plt.title('Distribusi Kolom Survived')\n",
    "plt.show()"
   ]
  },
  {
   "cell_type": "markdown",
   "id": "2781bd71",
   "metadata": {},
   "source": [
    "# 2. Data Cleaning:"
   ]
  },
  {
   "cell_type": "markdown",
   "id": "96b708f1",
   "metadata": {},
   "source": [
    "<ul>\n",
    "    <li> Identifikasi missing values dalam dataset dan terapkan teknik imputasi atau pembersihan data yang\n",
    "sesuai. </li>\n",
    "    <li> Hapus atau perbaiki data duplikat dan outliers. </li>\n",
    "    <li> Jika ada data kategorikal, lakukan encoding dan standardization. </li>\n",
    "</ul>"
   ]
  },
  {
   "cell_type": "markdown",
   "id": "a737f7e3",
   "metadata": {},
   "source": [
    "## a. Menghapus data duplikat"
   ]
  },
  {
   "cell_type": "code",
   "execution_count": 5,
   "id": "7cc7489a",
   "metadata": {},
   "outputs": [
    {
     "name": "stdout",
     "output_type": "stream",
     "text": [
      "<class 'pandas.core.frame.DataFrame'>\n",
      "Int64Index: 891 entries, 0 to 890\n",
      "Data columns (total 12 columns):\n",
      " #   Column       Non-Null Count  Dtype  \n",
      "---  ------       --------------  -----  \n",
      " 0   PassengerId  891 non-null    int64  \n",
      " 1   Survived     891 non-null    int64  \n",
      " 2   Pclass       891 non-null    int64  \n",
      " 3   Name         891 non-null    object \n",
      " 4   Sex          891 non-null    object \n",
      " 5   Age          714 non-null    float64\n",
      " 6   SibSp        891 non-null    int64  \n",
      " 7   Parch        891 non-null    int64  \n",
      " 8   Ticket       891 non-null    object \n",
      " 9   Fare         891 non-null    float64\n",
      " 10  Cabin        204 non-null    object \n",
      " 11  Embarked     889 non-null    object \n",
      "dtypes: float64(2), int64(5), object(5)\n",
      "memory usage: 90.5+ KB\n"
     ]
    }
   ],
   "source": [
    "df_titanic.drop_duplicates(inplace=True)\n",
    "df_titanic.info()"
   ]
  },
  {
   "cell_type": "markdown",
   "id": "ae40e312",
   "metadata": {},
   "source": [
    "## b. Menghapus kolom yang tidak diperlukan"
   ]
  },
  {
   "cell_type": "markdown",
   "id": "4da5b0a4",
   "metadata": {},
   "source": [
    "Penjelasan:\n",
    "<ul> \n",
    "    <li> kolom 'cabin' memiliki banyak nilai kosong sehingga perlu dihapus agar penggunaan dataset menjadi lebih efisien </li>\n",
    "    <li> kolom 'PassengerId', 'Name', 'Ticket' merupakan informasi yang tidak berpengaruh secara langsung dalam mencari korelasi antar fitur </li>\n",
    "</ul>"
   ]
  },
  {
   "cell_type": "code",
   "execution_count": 6,
   "id": "4b4e1d21",
   "metadata": {},
   "outputs": [
    {
     "data": {
      "text/plain": [
       "Index(['Survived', 'Pclass', 'Sex', 'Age', 'SibSp', 'Parch', 'Fare',\n",
       "       'Embarked'],\n",
       "      dtype='object')"
      ]
     },
     "execution_count": 6,
     "metadata": {},
     "output_type": "execute_result"
    }
   ],
   "source": [
    "df_titanic = df_titanic.drop(columns=['PassengerId', 'Name', 'Ticket', 'Cabin'])\n",
    "df_titanic.columns"
   ]
  },
  {
   "cell_type": "markdown",
   "id": "e3daeab1",
   "metadata": {},
   "source": [
    "## c. Mengimputasi nilai yang hilang di kolom numerik"
   ]
  },
  {
   "cell_type": "markdown",
   "id": "3503238f",
   "metadata": {},
   "source": [
    "Penjelasan: Tujuan mengimputasi nilai yang hilang di kolom 'Age' dengan nilai rata-rata adalah untuk merepresentasikan nilai rata-rata dan memberikan gambaran umum tentang pusat dari data."
   ]
  },
  {
   "cell_type": "code",
   "execution_count": 7,
   "id": "b9b74f1f",
   "metadata": {},
   "outputs": [
    {
     "name": "stdout",
     "output_type": "stream",
     "text": [
      "<class 'pandas.core.frame.DataFrame'>\n",
      "Int64Index: 891 entries, 0 to 890\n",
      "Data columns (total 8 columns):\n",
      " #   Column    Non-Null Count  Dtype  \n",
      "---  ------    --------------  -----  \n",
      " 0   Survived  891 non-null    int64  \n",
      " 1   Pclass    891 non-null    int64  \n",
      " 2   Sex       891 non-null    object \n",
      " 3   Age       891 non-null    float64\n",
      " 4   SibSp     891 non-null    int64  \n",
      " 5   Parch     891 non-null    int64  \n",
      " 6   Fare      891 non-null    float64\n",
      " 7   Embarked  889 non-null    object \n",
      "dtypes: float64(2), int64(4), object(2)\n",
      "memory usage: 62.6+ KB\n"
     ]
    }
   ],
   "source": [
    "imputer_age = SimpleImputer(strategy='mean')\n",
    "df_titanic['Age'] = imputer_age.fit_transform(df_titanic[['Age']])\n",
    "df_titanic.info()"
   ]
  },
  {
   "cell_type": "markdown",
   "id": "dd129fc4",
   "metadata": {},
   "source": [
    "## d. Mengimputasi nilai yang hilang di kolom kategorikal"
   ]
  },
  {
   "cell_type": "markdown",
   "id": "71ec91f2",
   "metadata": {},
   "source": [
    "Penjelasan: Tujuan mengimputasi nilai yang hilang di kolom 'Embarked' dengan nilai yang paling sering muncul (most frequent) adalah untuk menjaga konsistensi data dan tetap mewakili mayoritas."
   ]
  },
  {
   "cell_type": "code",
   "execution_count": 8,
   "id": "54792cf9",
   "metadata": {},
   "outputs": [
    {
     "name": "stdout",
     "output_type": "stream",
     "text": [
      "<class 'pandas.core.frame.DataFrame'>\n",
      "Int64Index: 891 entries, 0 to 890\n",
      "Data columns (total 8 columns):\n",
      " #   Column    Non-Null Count  Dtype  \n",
      "---  ------    --------------  -----  \n",
      " 0   Survived  891 non-null    int64  \n",
      " 1   Pclass    891 non-null    int64  \n",
      " 2   Sex       891 non-null    object \n",
      " 3   Age       891 non-null    float64\n",
      " 4   SibSp     891 non-null    int64  \n",
      " 5   Parch     891 non-null    int64  \n",
      " 6   Fare      891 non-null    float64\n",
      " 7   Embarked  891 non-null    object \n",
      "dtypes: float64(2), int64(4), object(2)\n",
      "memory usage: 62.6+ KB\n"
     ]
    }
   ],
   "source": [
    "imputer_embarked = SimpleImputer(strategy='most_frequent')\n",
    "df_titanic['Embarked'] = imputer_embarked.fit_transform(df_titanic[['Embarked']])\n",
    "df_titanic.info()"
   ]
  },
  {
   "cell_type": "markdown",
   "id": "e866e16f",
   "metadata": {},
   "source": [
    "## e. Mengatasi outlier"
   ]
  },
  {
   "cell_type": "markdown",
   "id": "2d718025",
   "metadata": {},
   "source": [
    "Penjelasan: Tujuan mengatasi nilai outlier pada kolom 'Fare' adalah untuk mengurangi dampak nilai ekstrem yang tidak representatif terhadap analisis data dan pemodelan sehingga diharapkan dapat memperbaiki distribusi data dan meningkatkan konvergensi serta stabilitas model."
   ]
  },
  {
   "cell_type": "code",
   "execution_count": 9,
   "id": "3d042c78",
   "metadata": {},
   "outputs": [
    {
     "data": {
      "image/png": "[encoded data removed]",
      "text/plain": [
       "<Figure size 1200x500 with 1 Axes>"
      ]
     },
     "metadata": {},
     "output_type": "display_data"
    }
   ],
   "source": [
    "Q1 = df_titanic['Fare'].quantile(0.25)\n",
    "Q3 = df_titanic['Fare'].quantile(0.75)\n",
    "IQR = Q3 - Q1\n",
    "df_titanic = df_titanic[~((df_titanic['Fare'] < (Q1 - 1.5 * IQR)) | (df_titanic['Fare'] > (Q3 + 1.5 * IQR)))]\n",
    "\n",
    "plt.figure(figsize=(12, 5))\n",
    "sns.histplot(df_titanic['Fare'], kde=True)\n",
    "plt.title('Distribusi Harga Tiket')\n",
    "plt.show()"
   ]
  },
  {
   "cell_type": "code",
   "execution_count": 10,
   "id": "f3c589ba",
   "metadata": {},
   "outputs": [
    {
     "name": "stdout",
     "output_type": "stream",
     "text": [
      "<class 'pandas.core.frame.DataFrame'>\n",
      "Int64Index: 775 entries, 0 to 890\n",
      "Data columns (total 8 columns):\n",
      " #   Column    Non-Null Count  Dtype  \n",
      "---  ------    --------------  -----  \n",
      " 0   Survived  775 non-null    int64  \n",
      " 1   Pclass    775 non-null    int64  \n",
      " 2   Sex       775 non-null    object \n",
      " 3   Age       775 non-null    float64\n",
      " 4   SibSp     775 non-null    int64  \n",
      " 5   Parch     775 non-null    int64  \n",
      " 6   Fare      775 non-null    float64\n",
      " 7   Embarked  775 non-null    object \n",
      "dtypes: float64(2), int64(4), object(2)\n",
      "memory usage: 54.5+ KB\n"
     ]
    },
    {
     "data": {
      "text/html": [
       "<div>\n",
       "<style scoped>\n",
       "    .dataframe tbody tr th:only-of-type {\n",
       "        vertical-align: middle;\n",
       "    }\n",
       "\n",
       "    .dataframe tbody tr th {\n",
       "        vertical-align: top;\n",
       "    }\n",
       "\n",
       "    .dataframe thead th {\n",
       "        text-align: right;\n",
       "    }\n",
       "</style>\n",
       "<table border=\"1\" class=\"dataframe\">\n",
       "  <thead>\n",
       "    <tr style=\"text-align: right;\">\n",
       "      <th></th>\n",
       "      <th>Survived</th>\n",
       "      <th>Pclass</th>\n",
       "      <th>Sex</th>\n",
       "      <th>Age</th>\n",
       "      <th>SibSp</th>\n",
       "      <th>Parch</th>\n",
       "      <th>Fare</th>\n",
       "      <th>Embarked</th>\n",
       "    </tr>\n",
       "  </thead>\n",
       "  <tbody>\n",
       "    <tr>\n",
       "      <th>count</th>\n",
       "      <td>775.000000</td>\n",
       "      <td>775.00000</td>\n",
       "      <td>775</td>\n",
       "      <td>775.000000</td>\n",
       "      <td>775.000000</td>\n",
       "      <td>775.000000</td>\n",
       "      <td>775.000000</td>\n",
       "      <td>775</td>\n",
       "    </tr>\n",
       "    <tr>\n",
       "      <th>unique</th>\n",
       "      <td>NaN</td>\n",
       "      <td>NaN</td>\n",
       "      <td>2</td>\n",
       "      <td>NaN</td>\n",
       "      <td>NaN</td>\n",
       "      <td>NaN</td>\n",
       "      <td>NaN</td>\n",
       "      <td>3</td>\n",
       "    </tr>\n",
       "    <tr>\n",
       "      <th>top</th>\n",
       "      <td>NaN</td>\n",
       "      <td>NaN</td>\n",
       "      <td>male</td>\n",
       "      <td>NaN</td>\n",
       "      <td>NaN</td>\n",
       "      <td>NaN</td>\n",
       "      <td>NaN</td>\n",
       "      <td>S</td>\n",
       "    </tr>\n",
       "    <tr>\n",
       "      <th>freq</th>\n",
       "      <td>NaN</td>\n",
       "      <td>NaN</td>\n",
       "      <td>531</td>\n",
       "      <td>NaN</td>\n",
       "      <td>NaN</td>\n",
       "      <td>NaN</td>\n",
       "      <td>NaN</td>\n",
       "      <td>584</td>\n",
       "    </tr>\n",
       "    <tr>\n",
       "      <th>mean</th>\n",
       "      <td>0.339355</td>\n",
       "      <td>2.48000</td>\n",
       "      <td>NaN</td>\n",
       "      <td>29.103880</td>\n",
       "      <td>0.437419</td>\n",
       "      <td>0.340645</td>\n",
       "      <td>17.822091</td>\n",
       "      <td>NaN</td>\n",
       "    </tr>\n",
       "    <tr>\n",
       "      <th>std</th>\n",
       "      <td>0.473796</td>\n",
       "      <td>0.73439</td>\n",
       "      <td>NaN</td>\n",
       "      <td>12.779988</td>\n",
       "      <td>0.899838</td>\n",
       "      <td>0.785914</td>\n",
       "      <td>13.578085</td>\n",
       "      <td>NaN</td>\n",
       "    </tr>\n",
       "    <tr>\n",
       "      <th>min</th>\n",
       "      <td>0.000000</td>\n",
       "      <td>1.00000</td>\n",
       "      <td>NaN</td>\n",
       "      <td>0.420000</td>\n",
       "      <td>0.000000</td>\n",
       "      <td>0.000000</td>\n",
       "      <td>0.000000</td>\n",
       "      <td>NaN</td>\n",
       "    </tr>\n",
       "    <tr>\n",
       "      <th>25%</th>\n",
       "      <td>0.000000</td>\n",
       "      <td>2.00000</td>\n",
       "      <td>NaN</td>\n",
       "      <td>22.000000</td>\n",
       "      <td>0.000000</td>\n",
       "      <td>0.000000</td>\n",
       "      <td>7.895800</td>\n",
       "      <td>NaN</td>\n",
       "    </tr>\n",
       "    <tr>\n",
       "      <th>50%</th>\n",
       "      <td>0.000000</td>\n",
       "      <td>3.00000</td>\n",
       "      <td>NaN</td>\n",
       "      <td>29.699118</td>\n",
       "      <td>0.000000</td>\n",
       "      <td>0.000000</td>\n",
       "      <td>13.000000</td>\n",
       "      <td>NaN</td>\n",
       "    </tr>\n",
       "    <tr>\n",
       "      <th>75%</th>\n",
       "      <td>1.000000</td>\n",
       "      <td>3.00000</td>\n",
       "      <td>NaN</td>\n",
       "      <td>34.000000</td>\n",
       "      <td>1.000000</td>\n",
       "      <td>0.000000</td>\n",
       "      <td>26.000000</td>\n",
       "      <td>NaN</td>\n",
       "    </tr>\n",
       "    <tr>\n",
       "      <th>max</th>\n",
       "      <td>1.000000</td>\n",
       "      <td>3.00000</td>\n",
       "      <td>NaN</td>\n",
       "      <td>80.000000</td>\n",
       "      <td>5.000000</td>\n",
       "      <td>6.000000</td>\n",
       "      <td>65.000000</td>\n",
       "      <td>NaN</td>\n",
       "    </tr>\n",
       "  </tbody>\n",
       "</table>\n",
       "</div>"
      ],
      "text/plain": [
       "          Survived     Pclass   Sex         Age       SibSp       Parch  \\\n",
       "count   775.000000  775.00000   775  775.000000  775.000000  775.000000   \n",
       "unique         NaN        NaN     2         NaN         NaN         NaN   \n",
       "top            NaN        NaN  male         NaN         NaN         NaN   \n",
       "freq           NaN        NaN   531         NaN         NaN         NaN   \n",
       "mean      0.339355    2.48000   NaN   29.103880    0.437419    0.340645   \n",
       "std       0.473796    0.73439   NaN   12.779988    0.899838    0.785914   \n",
       "min       0.000000    1.00000   NaN    0.420000    0.000000    0.000000   \n",
       "25%       0.000000    2.00000   NaN   22.000000    0.000000    0.000000   \n",
       "50%       0.000000    3.00000   NaN   29.699118    0.000000    0.000000   \n",
       "75%       1.000000    3.00000   NaN   34.000000    1.000000    0.000000   \n",
       "max       1.000000    3.00000   NaN   80.000000    5.000000    6.000000   \n",
       "\n",
       "              Fare Embarked  \n",
       "count   775.000000      775  \n",
       "unique         NaN        3  \n",
       "top            NaN        S  \n",
       "freq           NaN      584  \n",
       "mean     17.822091      NaN  \n",
       "std      13.578085      NaN  \n",
       "min       0.000000      NaN  \n",
       "25%       7.895800      NaN  \n",
       "50%      13.000000      NaN  \n",
       "75%      26.000000      NaN  \n",
       "max      65.000000      NaN  "
      ]
     },
     "execution_count": 10,
     "metadata": {},
     "output_type": "execute_result"
    }
   ],
   "source": [
    "df_titanic.info()\n",
    "\n",
    "df_titanic.describe(include='all')"
   ]
  },
  {
   "cell_type": "markdown",
   "id": "c0c8d1f8",
   "metadata": {},
   "source": [
    "# 3. Transformasi Data:"
   ]
  },
  {
   "cell_type": "markdown",
   "id": "6414029a",
   "metadata": {},
   "source": [
    "<ul>\n",
    "    <li> Terapkan normalisasi atau standarisasi pada kolom numerik yang relevan. </li>\n",
    "    <li> Lakukan encoding untuk data kategorikal menggunakan metode seperti one-hot encoding atau label\n",
    "encoding. </li>\n",
    "</ul>"
   ]
  },
  {
   "cell_type": "markdown",
   "id": "5c67602f",
   "metadata": {},
   "source": [
    "## a. Encoding data kategorikal"
   ]
  },
  {
   "cell_type": "markdown",
   "id": "f9c2097e",
   "metadata": {},
   "source": [
    "penjelasan: Sebagian besar algoritma pemodelan bekerja dengan angka, bukan teks, sehingga encoding data kategorikal ini diharapkan dapat membantu data bisa dianalisis secara efektif dalam pemodelan."
   ]
  },
  {
   "cell_type": "code",
   "execution_count": 11,
   "id": "16020339",
   "metadata": {},
   "outputs": [
    {
     "data": {
      "text/html": [
       "<div>\n",
       "<style scoped>\n",
       "    .dataframe tbody tr th:only-of-type {\n",
       "        vertical-align: middle;\n",
       "    }\n",
       "\n",
       "    .dataframe tbody tr th {\n",
       "        vertical-align: top;\n",
       "    }\n",
       "\n",
       "    .dataframe thead th {\n",
       "        text-align: right;\n",
       "    }\n",
       "</style>\n",
       "<table border=\"1\" class=\"dataframe\">\n",
       "  <thead>\n",
       "    <tr style=\"text-align: right;\">\n",
       "      <th></th>\n",
       "      <th>Survived</th>\n",
       "      <th>Pclass</th>\n",
       "      <th>Sex</th>\n",
       "      <th>Age</th>\n",
       "      <th>SibSp</th>\n",
       "      <th>Parch</th>\n",
       "      <th>Fare</th>\n",
       "      <th>Embarked_Q</th>\n",
       "      <th>Embarked_S</th>\n",
       "    </tr>\n",
       "  </thead>\n",
       "  <tbody>\n",
       "    <tr>\n",
       "      <th>0</th>\n",
       "      <td>0</td>\n",
       "      <td>3</td>\n",
       "      <td>1</td>\n",
       "      <td>22.000000</td>\n",
       "      <td>1</td>\n",
       "      <td>0</td>\n",
       "      <td>7.2500</td>\n",
       "      <td>0</td>\n",
       "      <td>1</td>\n",
       "    </tr>\n",
       "    <tr>\n",
       "      <th>2</th>\n",
       "      <td>1</td>\n",
       "      <td>3</td>\n",
       "      <td>0</td>\n",
       "      <td>26.000000</td>\n",
       "      <td>0</td>\n",
       "      <td>0</td>\n",
       "      <td>7.9250</td>\n",
       "      <td>0</td>\n",
       "      <td>1</td>\n",
       "    </tr>\n",
       "    <tr>\n",
       "      <th>3</th>\n",
       "      <td>1</td>\n",
       "      <td>1</td>\n",
       "      <td>0</td>\n",
       "      <td>35.000000</td>\n",
       "      <td>1</td>\n",
       "      <td>0</td>\n",
       "      <td>53.1000</td>\n",
       "      <td>0</td>\n",
       "      <td>1</td>\n",
       "    </tr>\n",
       "    <tr>\n",
       "      <th>4</th>\n",
       "      <td>0</td>\n",
       "      <td>3</td>\n",
       "      <td>1</td>\n",
       "      <td>35.000000</td>\n",
       "      <td>0</td>\n",
       "      <td>0</td>\n",
       "      <td>8.0500</td>\n",
       "      <td>0</td>\n",
       "      <td>1</td>\n",
       "    </tr>\n",
       "    <tr>\n",
       "      <th>5</th>\n",
       "      <td>0</td>\n",
       "      <td>3</td>\n",
       "      <td>1</td>\n",
       "      <td>29.699118</td>\n",
       "      <td>0</td>\n",
       "      <td>0</td>\n",
       "      <td>8.4583</td>\n",
       "      <td>1</td>\n",
       "      <td>0</td>\n",
       "    </tr>\n",
       "  </tbody>\n",
       "</table>\n",
       "</div>"
      ],
      "text/plain": [
       "   Survived  Pclass  Sex        Age  SibSp  Parch     Fare  Embarked_Q  \\\n",
       "0         0       3    1  22.000000      1      0   7.2500           0   \n",
       "2         1       3    0  26.000000      0      0   7.9250           0   \n",
       "3         1       1    0  35.000000      1      0  53.1000           0   \n",
       "4         0       3    1  35.000000      0      0   8.0500           0   \n",
       "5         0       3    1  29.699118      0      0   8.4583           1   \n",
       "\n",
       "   Embarked_S  \n",
       "0           1  \n",
       "2           1  \n",
       "3           1  \n",
       "4           1  \n",
       "5           0  "
      ]
     },
     "execution_count": 11,
     "metadata": {},
     "output_type": "execute_result"
    }
   ],
   "source": [
    "# Label Encoding untuk kolom yang memiliki dua kategori, seperti 'Sex'\n",
    "le = LabelEncoder()\n",
    "df_titanic['Sex'] = le.fit_transform(df_titanic['Sex'])\n",
    "\n",
    "# One-Hot Encoding untuk kolom dengan banyak kategori, seperti 'Embarked'\n",
    "df_titanic = pd.get_dummies(df_titanic, columns=['Embarked'], drop_first=True)\n",
    "\n",
    "df_titanic.head()"
   ]
  },
  {
   "cell_type": "markdown",
   "id": "97d8109d",
   "metadata": {},
   "source": [
    "## b. Normalisasi kolom numerik yang relevan"
   ]
  },
  {
   "cell_type": "markdown",
   "id": "3f7032de",
   "metadata": {},
   "source": [
    "Penjelasan: tujuan normalisasi pada kolom numerik yang relevan adalah untuk memastikan data lebih seragam dalam skala"
   ]
  },
  {
   "cell_type": "code",
   "execution_count": 12,
   "id": "37815a63",
   "metadata": {},
   "outputs": [
    {
     "data": {
      "text/html": [
       "<div>\n",
       "<style scoped>\n",
       "    .dataframe tbody tr th:only-of-type {\n",
       "        vertical-align: middle;\n",
       "    }\n",
       "\n",
       "    .dataframe tbody tr th {\n",
       "        vertical-align: top;\n",
       "    }\n",
       "\n",
       "    .dataframe thead th {\n",
       "        text-align: right;\n",
       "    }\n",
       "</style>\n",
       "<table border=\"1\" class=\"dataframe\">\n",
       "  <thead>\n",
       "    <tr style=\"text-align: right;\">\n",
       "      <th></th>\n",
       "      <th>Survived</th>\n",
       "      <th>Pclass</th>\n",
       "      <th>Sex</th>\n",
       "      <th>Age</th>\n",
       "      <th>SibSp</th>\n",
       "      <th>Parch</th>\n",
       "      <th>Fare</th>\n",
       "      <th>Embarked_Q</th>\n",
       "      <th>Embarked_S</th>\n",
       "    </tr>\n",
       "  </thead>\n",
       "  <tbody>\n",
       "    <tr>\n",
       "      <th>0</th>\n",
       "      <td>0</td>\n",
       "      <td>3</td>\n",
       "      <td>1</td>\n",
       "      <td>-0.556219</td>\n",
       "      <td>1</td>\n",
       "      <td>0</td>\n",
       "      <td>-0.779117</td>\n",
       "      <td>0</td>\n",
       "      <td>1</td>\n",
       "    </tr>\n",
       "    <tr>\n",
       "      <th>2</th>\n",
       "      <td>1</td>\n",
       "      <td>3</td>\n",
       "      <td>0</td>\n",
       "      <td>-0.243027</td>\n",
       "      <td>0</td>\n",
       "      <td>0</td>\n",
       "      <td>-0.729373</td>\n",
       "      <td>0</td>\n",
       "      <td>1</td>\n",
       "    </tr>\n",
       "    <tr>\n",
       "      <th>3</th>\n",
       "      <td>1</td>\n",
       "      <td>1</td>\n",
       "      <td>0</td>\n",
       "      <td>0.461654</td>\n",
       "      <td>1</td>\n",
       "      <td>0</td>\n",
       "      <td>2.599828</td>\n",
       "      <td>0</td>\n",
       "      <td>1</td>\n",
       "    </tr>\n",
       "    <tr>\n",
       "      <th>4</th>\n",
       "      <td>0</td>\n",
       "      <td>3</td>\n",
       "      <td>1</td>\n",
       "      <td>0.461654</td>\n",
       "      <td>0</td>\n",
       "      <td>0</td>\n",
       "      <td>-0.720161</td>\n",
       "      <td>0</td>\n",
       "      <td>1</td>\n",
       "    </tr>\n",
       "    <tr>\n",
       "      <th>5</th>\n",
       "      <td>0</td>\n",
       "      <td>3</td>\n",
       "      <td>1</td>\n",
       "      <td>0.046606</td>\n",
       "      <td>0</td>\n",
       "      <td>0</td>\n",
       "      <td>-0.690071</td>\n",
       "      <td>1</td>\n",
       "      <td>0</td>\n",
       "    </tr>\n",
       "  </tbody>\n",
       "</table>\n",
       "</div>"
      ],
      "text/plain": [
       "   Survived  Pclass  Sex       Age  SibSp  Parch      Fare  Embarked_Q  \\\n",
       "0         0       3    1 -0.556219      1      0 -0.779117           0   \n",
       "2         1       3    0 -0.243027      0      0 -0.729373           0   \n",
       "3         1       1    0  0.461654      1      0  2.599828           0   \n",
       "4         0       3    1  0.461654      0      0 -0.720161           0   \n",
       "5         0       3    1  0.046606      0      0 -0.690071           1   \n",
       "\n",
       "   Embarked_S  \n",
       "0           1  \n",
       "2           1  \n",
       "3           1  \n",
       "4           1  \n",
       "5           0  "
      ]
     },
     "execution_count": 12,
     "metadata": {},
     "output_type": "execute_result"
    }
   ],
   "source": [
    "scaler = StandardScaler()\n",
    "df_titanic[['Fare', 'Age']] = scaler.fit_transform(df_titanic[['Fare', 'Age']])\n",
    "df_titanic.head()"
   ]
  },
  {
   "cell_type": "markdown",
   "id": "2da2b3c4",
   "metadata": {},
   "source": [
    "# 4. Analisis dan Visualisasi:"
   ]
  },
  {
   "cell_type": "markdown",
   "id": "54a75be2",
   "metadata": {},
   "source": [
    "<ul>\n",
    "    <li> Setelah membersihkan data, lakukan analisis mendalam seperti mencari korelasi antar fitur. </li>\n",
    "    <li> Visualisasikan data dengan grafik yang lebih kompleks seperti box plot atau heatmap. </li>\n",
    "</ul>"
   ]
  },
  {
   "cell_type": "markdown",
   "id": "1a0cd7eb",
   "metadata": {},
   "source": [
    "## a. Visualisasi"
   ]
  },
  {
   "cell_type": "code",
   "execution_count": 13,
   "id": "7012a9b6",
   "metadata": {},
   "outputs": [
    {
     "data": {
      "image/png": "[encoded data removed]",
      "text/plain": [
       "<Figure size 1200x800 with 2 Axes>"
      ]
     },
     "metadata": {},
     "output_type": "display_data"
    },
    {
     "data": {
      "image/png": "[encoded data removed]",
      "text/plain": [
       "<Figure size 1000x500 with 1 Axes>"
      ]
     },
     "metadata": {},
     "output_type": "display_data"
    }
   ],
   "source": [
    "# Korelasi antar fitur\n",
    "correlation_matrix = df_titanic.corr()\n",
    "plt.figure(figsize=(12, 8))\n",
    "sns.heatmap(correlation_matrix, annot=True, cmap='coolwarm', fmt=\".2f\")\n",
    "plt.title('Heatmap Korelasi Antar Fitur')\n",
    "plt.show()\n",
    "\n",
    "# Box plot untuk melihat distribusi kolom numerik setelah cleaning\n",
    "plt.figure(figsize=(10, 5))\n",
    "sns.boxplot(data=df_titanic[['Age', 'Fare']])\n",
    "plt.title('Boxplot Kolom Age dan Fare')\n",
    "plt.show()"
   ]
  },
  {
   "cell_type": "markdown",
   "id": "dc2e4683",
   "metadata": {},
   "source": [
    "## b. Hasil Analisa"
   ]
  },
  {
   "cell_type": "markdown",
   "id": "6007fe00",
   "metadata": {},
   "source": [
    "Analisa hasil visual korelasi antar fitur:\n",
    "<ol>\n",
    "    <li> Melihat korelasi antar fitur kolom 'SibSp', 'Parch', dan 'Fare', ternyata ketiganya memiliki korelasi paling tinggi. Sehingga disimpulkan biaya tiket penumpang yang dikeluarkan ini penting jika berkaitan dengan jumlah saudara, pasangan, orang tua, ataupun anak yang ikut serta naik di atas kapal. </li>\n",
    "    <li> Sedangkan korelasi antar fitur 'Fare' dengan 'Pclass' memiliki korelasi paling rendah. Sehingga bisa disimpulkan biaya tiket penumpang di dalam data ini tidak berkaitan dengan kelas tiket penumpang. </li>\n",
    "</ol>\n",
    "\n",
    "Analisa hasil visual boxplot fitur kolom 'Age' dan 'Fare':\n",
    "<ol>\n",
    "    <li> Masing-masing kolom memiliki outlier </li>\n",
    "    <li> Namun outlier yang masih ditemukan pada kolom 'Fare' perlu dianalisis lebih lanjut lagi, karena itu bisa berdampak signifikan pada pemodelan, mengingat beberapa penumpang membayar harga yang sangat tinggi. </li>\n",
    "    <li> Data kolom 'Age' relatif lebih stabil, meskipun beberapa outlier masih perlu diperhatikan. </li>\n",
    "</ol>"
   ]
  }
 ],
 "metadata": {
  "kernelspec": {
   "display_name": "Python 3 (ipykernel)",
   "language": "python",
   "name": "python3"
  },
  "language_info": {
   "codemirror_mode": {
    "name": "ipython",
    "version": 3
   },
   "file_extension": ".py",
   "mimetype": "text/x-python",
   "name": "python",
   "nbconvert_exporter": "python",
   "pygments_lexer": "ipython3",
   "version": "3.7.6"
  }
 },
 "nbformat": 4,
 "nbformat_minor": 5
}
