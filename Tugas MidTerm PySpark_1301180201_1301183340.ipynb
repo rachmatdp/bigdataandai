{
 "cells": [
  {
   "cell_type": "markdown",
   "id": "8844feba",
   "metadata": {},
   "source": [
    "**Tugas MidTerm Big Data dan AI** <br>\n",
    "Anggota Kelompok:<br>\n",
    "<ol>\n",
    "    <li>Rachmat Dwi Putra (1301180201)</li>\n",
    "    <li>Nabil Anwar Fauzi (1301183340)</li>\n",
    "</ol>"
   ]
  },
  {
   "cell_type": "markdown",
   "id": "348b7a14",
   "metadata": {},
   "source": [
    "# Setup PySpark"
   ]
  },
  {
   "cell_type": "markdown",
   "id": "2b594dbe",
   "metadata": {},
   "source": [
    "Penjelasan:\n",
    "Pada tahap ini, dilakukan proses inisialisasi SparkSession, yang diperlukan untuk menjalankan analisis data dengan PySpark. Kami juga menentukan pengaturan memori dan waktu respons untuk mengoptimalkan kinerja saat mengolah data dalam jumlah besar. Konfigurasi ini memberikan sistem kapasitas memori yang memadai untuk memproses data dan menjaga stabilitas proses Spark."
   ]
  },
  {
   "cell_type": "code",
   "execution_count": 1,
   "id": "370dc9a6",
   "metadata": {},
   "outputs": [
    {
     "name": "stdout",
     "output_type": "stream",
     "text": [
      "<pyspark.sql.session.SparkSession object at 0x00000222FFFDA2C8>\n",
      "SparkContext: <SparkContext master=local[*] appName=NYC Taxi Fare Prediction>\n",
      "Spark version: 3.5.3\n"
     ]
    }
   ],
   "source": [
    "# Import library findspark dan inisialisasi PySpark\n",
    "import findspark\n",
    "findspark.init()\n",
    "\n",
    "# Memulai SparkSession dengan konfigurasi tambahan\n",
    "from pyspark.sql import SparkSession\n",
    "\n",
    "spark = SparkSession.builder \\\n",
    "    .appName(\"NYC Taxi Fare Prediction\") \\\n",
    "    .master(\"local[*]\") \\\n",
    "    .config(\"spark.driver.memory\", \"8g\") \\\n",
    "    .config(\"spark.executor.memory\", \"8g\") \\\n",
    "    .config(\"spark.driver.host\", \"127.0.0.1\") \\\n",
    "    .config(\"spark.network.timeout\", \"12000s\") \\\n",
    "    .config(\"spark.executor.heartbeatInterval\", \"10000s\") \\\n",
    "    .getOrCreate()\n",
    "\n",
    "# Cetak informasi SparkSession untuk memastikan setup berhasil dan Verifikasi SparkContext\n",
    "print(spark)\n",
    "sc = spark.sparkContext\n",
    "print(\"SparkContext:\", sc)\n",
    "print(\"Spark version:\", sc.version)"
   ]
  },
  {
   "cell_type": "markdown",
   "id": "a59fc9f4",
   "metadata": {},
   "source": [
    "# 1. Memuat dan menyiapkan data menggunakan PySpark. (10 poin)"
   ]
  },
  {
   "cell_type": "markdown",
   "id": "0ffff896",
   "metadata": {},
   "source": [
    "Penjelasan:\n",
    "Pada tahap ini, dilakukan proses pemuatan data train dan test dari file CSV, secara otomatis mengenali skema data dan menggunakan baris header sebagai nama kolom. Untuk memverifikasi struktur data, menampilkan skema, menghitung jumlah baris, dan beberapa baris pertama."
   ]
  },
  {
   "cell_type": "code",
   "execution_count": 2,
   "id": "f66313b7",
   "metadata": {},
   "outputs": [
    {
     "name": "stdout",
     "output_type": "stream",
     "text": [
      "root\n",
      " |-- key: timestamp (nullable = true)\n",
      " |-- fare_amount: double (nullable = true)\n",
      " |-- pickup_datetime: timestamp (nullable = true)\n",
      " |-- pickup_longitude: double (nullable = true)\n",
      " |-- pickup_latitude: double (nullable = true)\n",
      " |-- dropoff_longitude: double (nullable = true)\n",
      " |-- dropoff_latitude: double (nullable = true)\n",
      " |-- passenger_count: integer (nullable = true)\n",
      "\n",
      "Jumlah baris dalam train_df: 55423856\n",
      "Jumlah baris dalam test_df: 9914\n",
      "+-------------------+-----------+-------------------+----------------+---------------+-----------------+----------------+---------------+\n",
      "|                key|fare_amount|    pickup_datetime|pickup_longitude|pickup_latitude|dropoff_longitude|dropoff_latitude|passenger_count|\n",
      "+-------------------+-----------+-------------------+----------------+---------------+-----------------+----------------+---------------+\n",
      "|2009-06-15 17:26:21|        4.5|2009-06-16 00:26:21|      -73.844311|      40.721319|        -73.84161|       40.712278|              1|\n",
      "|2010-01-05 16:52:16|       16.9|2010-01-05 23:52:16|      -74.016048|      40.711303|       -73.979268|       40.782004|              1|\n",
      "|2011-08-18 00:35:00|        5.7|2011-08-18 07:35:00|      -73.982738|       40.76127|       -73.991242|       40.750562|              2|\n",
      "|2012-04-21 04:30:42|        7.7|2012-04-21 11:30:42|       -73.98713|      40.733143|       -73.991567|       40.758092|              1|\n",
      "|2010-03-09 07:51:00|        5.3|2010-03-09 14:51:00|      -73.968095|      40.768008|       -73.956655|       40.783762|              1|\n",
      "+-------------------+-----------+-------------------+----------------+---------------+-----------------+----------------+---------------+\n",
      "only showing top 5 rows\n",
      "\n"
     ]
    }
   ],
   "source": [
    "train_df = spark.read.csv(\"new-york-city-taxi-fare-prediction/train.csv\", header=True, inferSchema=True)\n",
    "test_df = spark.read.csv(\"new-york-city-taxi-fare-prediction/test.csv\", header=True, inferSchema=True)\n",
    "\n",
    "# Menampilkan Skema Dataframe\n",
    "train_df.printSchema()\n",
    "\n",
    "# Menghitung Jumlah Baris\n",
    "print(f\"Jumlah baris dalam train_df: {train_df.count()}\")\n",
    "print(f\"Jumlah baris dalam test_df: {test_df.count()}\")\n",
    "\n",
    "# Menampilkan sejumlah baris data\n",
    "train_df.show(5)"
   ]
  },
  {
   "cell_type": "markdown",
   "id": "db646c76",
   "metadata": {},
   "source": [
    "# 2. Melakukan eksplorasi data (exploratory data analysis - EDA) (15 poin)"
   ]
  },
  {
   "cell_type": "markdown",
   "id": "cdbc9db5",
   "metadata": {},
   "source": [
    "Penjelasan:\n",
    "Tahap ini melakukan eksplorasi data statistik ringkasan yang membantu untuk memahami distribusi, rentang nilai, dan kemungkinan adanya anomali dalam data, termasuk adanya data yang bernilai null."
   ]
  },
  {
   "cell_type": "code",
   "execution_count": 3,
   "id": "c7a0ad39",
   "metadata": {},
   "outputs": [
    {
     "name": "stdout",
     "output_type": "stream",
     "text": [
      "=== Jumlah Nilai Null Dalam Data ===\n",
      "+---+-----------+---------------+----------------+---------------+-----------------+----------------+---------------+\n",
      "|key|fare_amount|pickup_datetime|pickup_longitude|pickup_latitude|dropoff_longitude|dropoff_latitude|passenger_count|\n",
      "+---+-----------+---------------+----------------+---------------+-----------------+----------------+---------------+\n",
      "|  0|          0|              0|               0|              0|              376|             376|              0|\n",
      "+---+-----------+---------------+----------------+---------------+-----------------+----------------+---------------+\n",
      "\n",
      "=== Describe Train Data ===\n",
      "+-------+------------------+------------------+-----------------+------------------+------------------+------------------+\n",
      "|summary|       fare_amount|  pickup_longitude|  pickup_latitude| dropoff_longitude|  dropoff_latitude|   passenger_count|\n",
      "+-------+------------------+------------------+-----------------+------------------+------------------+------------------+\n",
      "|  count|          55423856|          55423856|         55423856|          55423480|          55423480|          55423856|\n",
      "|   mean|11.345045601663852|-72.50968444358729| 39.9197917868882|-72.51120972971809|39.920681444828844|1.6853799201556816|\n",
      "| stddev|  20.7108321982325| 12.84888338140265|9.642353041994934|12.782196517830771| 9.633345796415124|1.3276643570959683|\n",
      "|    min|            -300.0|      -3442.059565|     -3492.263768|      -3442.024565|      -3547.886698|                 0|\n",
      "|    max|          93963.36|       3457.625683|      3408.789565|        3457.62235|       3537.132528|               208|\n",
      "+-------+------------------+------------------+-----------------+------------------+------------------+------------------+\n",
      "\n",
      "=== Data Distribusi fare_amount ===\n",
      "+-------+------------------+\n",
      "|summary|       fare_amount|\n",
      "+-------+------------------+\n",
      "|  count|          55423856|\n",
      "|   mean|11.345045601663852|\n",
      "| stddev|  20.7108321982325|\n",
      "|    min|            -300.0|\n",
      "|    max|          93963.36|\n",
      "+-------+------------------+\n",
      "\n",
      "=== Data Jumlah Penumpang ===\n",
      "+---------------+--------+\n",
      "|passenger_count|   count|\n",
      "+---------------+--------+\n",
      "|              1|38337524|\n",
      "|              6| 1174647|\n",
      "|              3| 2432712|\n",
      "|              5| 3929346|\n",
      "|              9|      23|\n",
      "|              4| 1178852|\n",
      "|              2| 8175243|\n",
      "|              0|  195416|\n",
      "|            208|      64|\n",
      "|            129|       2|\n",
      "|              7|      15|\n",
      "|             51|       1|\n",
      "|             49|       1|\n",
      "|              8|       9|\n",
      "|             34|       1|\n",
      "+---------------+--------+\n",
      "\n"
     ]
    },
    {
     "data": {
      "image/png": "[encoded data removed]",
      "text/plain": [
       "<Figure size 640x480 with 1 Axes>"
      ]
     },
     "metadata": {},
     "output_type": "display_data"
    }
   ],
   "source": [
    "from pyspark.sql.functions import col, sum\n",
    "\n",
    "# Hitung jumlah data kosong untuk setiap kolom\n",
    "print(\"=== Jumlah Nilai Null Dalam Data ===\")\n",
    "train_df.select([sum(col(c).isNull().cast(\"int\")).alias(c) for c in train_df.columns]).show()\n",
    "\n",
    "# Statistik umum untuk setiap kolom\n",
    "print(\"=== Describe Train Data ===\")\n",
    "train_df.describe().show()\n",
    "\n",
    "# Distribusi fare_amount\n",
    "print(\"=== Data Distribusi fare_amount ===\")\n",
    "train_df.select(\"fare_amount\").describe().show()\n",
    "\n",
    "# Jumlah penumpang\n",
    "print(\"=== Data Jumlah Penumpang ===\")\n",
    "train_df.groupBy(\"passenger_count\").count().show()\n",
    "\n",
    "# Visualisasi menggunakan matplotlib/seaborn\n",
    "import matplotlib.pyplot as plt\n",
    "train_pandas = train_df.sample(fraction=0.01).toPandas()  # Contoh untuk sampling 1% data\n",
    "train_pandas['fare_amount'].hist(bins=50)\n",
    "plt.xlabel(\"Fare Amount\")\n",
    "plt.ylabel(\"Frequency\")\n",
    "plt.title(\"Visual of Fare Amount's Frequency\")\n",
    "plt.show()"
   ]
  },
  {
   "cell_type": "markdown",
   "id": "3e46e296",
   "metadata": {},
   "source": [
    "# 3. Menerapkan transformasi data yang diperlukan (preprocessing). (15 poin)"
   ]
  },
  {
   "cell_type": "markdown",
   "id": "205c7830",
   "metadata": {},
   "source": [
    "Penjelasan : Pada tahap ini, dilakukan pembersihan dan transformasi data. Hal ini dilakukan untuk menghindari kesalahan saat melakukan analisis, dengan menghapus baris dengan nilai null dari kolom dropoff_longitude dan dropoff_latitude. Selain itu dilakukan penambahan kolom baru untuk mendapatkan data waktu yang lebih akurat, dengan menambahkan kolom pickup_hour dan pickup_day. Ini dilakukan karena waktu penjemputan mungkin memengaruhi tarif. Selanjutnya dilakukan proses penyaringan data berdasarkan tarif wajar untuk memastikan bahwa model tidak dipengaruhi oleh data yang tidak valid atau suara, hapus baris yang memiliki nilai fare_amount yang tidak masuk akal (di luar rentang 0-500)."
   ]
  },
  {
   "cell_type": "code",
   "execution_count": 4,
   "id": "4fe41538",
   "metadata": {},
   "outputs": [
    {
     "name": "stdout",
     "output_type": "stream",
     "text": [
      "=== Jumlah Nilai Null Dalam Data ===\n",
      "+---+-----------+---------------+----------------+---------------+-----------------+----------------+---------------+\n",
      "|key|fare_amount|pickup_datetime|pickup_longitude|pickup_latitude|dropoff_longitude|dropoff_latitude|passenger_count|\n",
      "+---+-----------+---------------+----------------+---------------+-----------------+----------------+---------------+\n",
      "|  0|          0|              0|               0|              0|                0|               0|              0|\n",
      "+---+-----------+---------------+----------------+---------------+-----------------+----------------+---------------+\n",
      "\n"
     ]
    }
   ],
   "source": [
    "from pyspark.sql.functions import *\n",
    "\n",
    "# Menghapus baris dengan nilai null pada kolom dropoff_longitude dan dropoff_latitude\n",
    "train_df = train_df.dropna(subset=[\"dropoff_longitude\", \"dropoff_latitude\"])\n",
    "\n",
    "# Cek lagi jumlah data kosong untuk setiap kolom\n",
    "print(\"=== Jumlah Nilai Null Dalam Data ===\")\n",
    "train_df.select([sum(col(c).isNull().cast(\"int\")).alias(c) for c in train_df.columns]).show()\n",
    "\n",
    "# Ekstraksi komponen waktu dari pickup_datetime\n",
    "train_df = train_df.withColumn(\"pickup_hour\", hour(\"pickup_datetime\"))\n",
    "train_df = train_df.withColumn(\"pickup_day\", dayofweek(\"pickup_datetime\"))\n",
    "\n",
    "# Menghapus outlier\n",
    "train_df = train_df.filter((train_df.fare_amount > 0) & (train_df.fare_amount < 500))"
   ]
  },
  {
   "cell_type": "markdown",
   "id": "53193bb6",
   "metadata": {},
   "source": [
    "# 4. Melakukan pemodelan menggunakan algoritma yang sesuai dengan PySpark MLlib. (25 poin)"
   ]
  },
  {
   "cell_type": "markdown",
   "id": "41fa560f",
   "metadata": {},
   "source": [
    "Penjelasan:\n",
    "Proses pemodelan dilakukan dengan menggunakan VectorAssembler untuk menggabungkan fitur-fitur yang dipilih menjadi satu vektor. Ini memudahkan input untuk model PySpark MLlib. Selanjutnya, data dibagi menjadi data train dan data test untuk evaluasi. Karena masalah regresi ini, fare_amount diprediksi menggunakan algoritma linear regresi. Data train kemudian digunakan untuk melatih model."
   ]
  },
  {
   "cell_type": "code",
   "execution_count": 5,
   "id": "6b46bb08",
   "metadata": {
    "scrolled": false
   },
   "outputs": [],
   "source": [
    "from pyspark.ml.feature import VectorAssembler\n",
    "from pyspark.ml.regression import LinearRegression\n",
    "\n",
    "feature_columns = [\n",
    "    \"pickup_longitude\", \"pickup_latitude\", \n",
    "    \"dropoff_longitude\", \"dropoff_latitude\", \n",
    "    \"passenger_count\", \"pickup_hour\", \"pickup_day\"\n",
    "]\n",
    "\n",
    "assembler = VectorAssembler(\n",
    "    inputCols=feature_columns,\n",
    "    outputCol=\"features\",\n",
    "    handleInvalid=\"skip\"  # Mengabaikan baris yang mengandung nilai null\n",
    ")\n",
    "\n",
    "# Menggabungkan kolom fitur menjadi satu vektor\n",
    "train_df = assembler.transform(train_df)\n",
    "\n",
    "# Membagi data menjadi data latih dan data uji\n",
    "train_data, test_data = train_df.randomSplit([0.8, 0.2], seed=42)\n",
    "\n",
    "# Membuat model regresi linear\n",
    "lr = LinearRegression(featuresCol=\"features\", labelCol=\"fare_amount\")\n",
    "\n",
    "# Melatih model\n",
    "lr_model = lr.fit(train_data)"
   ]
  },
  {
   "cell_type": "markdown",
   "id": "adc17b0e",
   "metadata": {},
   "source": [
    "# 5. Mengevaluasi model yang dihasilkan menggunakan metrik evaluasi yang sesuai. (15 poin)"
   ]
  },
  {
   "cell_type": "markdown",
   "id": "3b3c762c",
   "metadata": {},
   "source": [
    "Penjelasan:\n",
    "Untuk mengevaluasi model yang telah dibuat, metrik yang dikenal sebagai Root Mean Squared Error (RMSE) digunakan pada tahap ini. Nilai RMSE yang lebih rendah menunjukkan prediksi yang lebih akurat. Hasilnya, model menghasilkan nilai RMSE sebesar 9,76 pada data test, yang menunjukkan kesalahan prediksi rata-rata sebesar 9,76 dolar."
   ]
  },
  {
   "cell_type": "code",
   "execution_count": 6,
   "id": "95cdf9ff",
   "metadata": {},
   "outputs": [
    {
     "name": "stdout",
     "output_type": "stream",
     "text": [
      "Root Mean Squared Error (RMSE) on validation data: 9.762479004582415\n"
     ]
    }
   ],
   "source": [
    "from pyspark.ml.evaluation import RegressionEvaluator\n",
    "\n",
    "# Evaluasi menggunakan RMSE\n",
    "predictions = lr_model.transform(test_data)\n",
    "evaluator = RegressionEvaluator(labelCol=\"fare_amount\", predictionCol=\"prediction\", metricName=\"rmse\")\n",
    "rmse = evaluator.evaluate(predictions)\n",
    "print(f\"Root Mean Squared Error (RMSE) on validation data: {rmse}\")"
   ]
  },
  {
   "cell_type": "markdown",
   "id": "6de29884",
   "metadata": {},
   "source": [
    "# 6. Melakukan tuning hyperparameter untuk meningkatkan performa model (10 poin)"
   ]
  },
  {
   "cell_type": "markdown",
   "id": "cbf4efb9",
   "metadata": {},
   "source": [
    "Penjelasan:\n",
    "<ul>\n",
    "    <li>Menyiapkan grid parameter untuk melakukan tuning <code>regParam</code> dan <code>elasticNetParam</code>.</li>\n",
    "    <li>Menggunakan cross-validation untuk menemukan konfigurasi model terbaik berdasarkan parameter yang diuji.</li>\n",
    "    <li>Menampilkan RMSE dari model terbaik dan menampilkan nilai optimal dari hyperparameter yang dipilih.</li>\n",
    "</ul>"
   ]
  },
  {
   "cell_type": "code",
   "execution_count": 7,
   "id": "1dd2d8e1",
   "metadata": {},
   "outputs": [
    {
     "name": "stdout",
     "output_type": "stream",
     "text": [
      "Best Root Mean Squared Error (RMSE) on validation data: 9.762479052665853\n",
      "Best Model's regularization parameter (regParam): 0.01\n",
      "Best Model's ElasticNet parameter (elasticNetParam): 0.0\n"
     ]
    }
   ],
   "source": [
    "from pyspark.ml.tuning import ParamGridBuilder, CrossValidator\n",
    "\n",
    "# Membuat grid parameter untuk hyperparameter tuning\n",
    "param_grid = ParamGridBuilder() \\\n",
    "    .addGrid(lr.regParam, [0.01, 0.1, 1.0]) \\\n",
    "    .addGrid(lr.elasticNetParam, [0.0, 0.5, 1.0]) \\\n",
    "    .build()\n",
    "\n",
    "# Menggunakan CrossValidator untuk melakukan tuning hyperparameter\n",
    "crossval = CrossValidator(\n",
    "    estimator=lr,\n",
    "    estimatorParamMaps=param_grid,\n",
    "    evaluator=evaluator,\n",
    "    numFolds=5  # Cross-validation dengan 5 lipatan\n",
    ")\n",
    "\n",
    "# Melakukan cross-validation untuk mendapatkan model terbaik\n",
    "cv_model = crossval.fit(train_data)\n",
    "\n",
    "# Melakukan prediksi menggunakan model terbaik pada data uji\n",
    "best_model_predictions = cv_model.bestModel.transform(test_data)\n",
    "\n",
    "# Evaluasi model terbaik\n",
    "best_rmse = evaluator.evaluate(best_model_predictions)\n",
    "print(f\"Best Root Mean Squared Error (RMSE) on validation data: {best_rmse}\")\n",
    "\n",
    "# Menampilkan hyperparameter terbaik\n",
    "best_model = cv_model.bestModel\n",
    "print(f\"Best Model's regularization parameter (regParam): {best_model._java_obj.getRegParam()}\")\n",
    "print(f\"Best Model's ElasticNet parameter (elasticNetParam): {best_model._java_obj.getElasticNetParam()}\")"
   ]
  },
  {
   "cell_type": "markdown",
   "id": "ac35aaae",
   "metadata": {},
   "source": [
    "# 7. Kesimpulan"
   ]
  },
  {
   "cell_type": "markdown",
   "id": "8f382533",
   "metadata": {},
   "source": [
    "Alur penuh untuk memprediksi tarif taksi NYC menggunakan PySpark MLlib ditunjukkan dalam mengerjakan tugas ini. Pra-pemrosesan data mencakup penghapusan outlier, rekayasa fitur tambahan dari waktu penjemputan, dan pembersihan nilai null. Menggunakan cross-validation, pelatihan model-linear regression, mengevaluasi, dan meningkatkannya dengan mengatur hyperparameter. RMSE awal model adalah 9,76 dan tetap hampir sama setelah tuning, menunjukkan bahwa ada kemungkinan untuk mengeksplorasi fitur tambahan atau model lain untuk meningkatkan akurasi."
   ]
  }
 ],
 "metadata": {
  "kernelspec": {
   "display_name": "Python 3 (ipykernel)",
   "language": "python",
   "name": "python3"
  },
  "language_info": {
   "codemirror_mode": {
    "name": "ipython",
    "version": 3
   },
   "file_extension": ".py",
   "mimetype": "text/x-python",
   "name": "python",
   "nbconvert_exporter": "python",
   "pygments_lexer": "ipython3",
   "version": "3.7.6"
  }
 },
 "nbformat": 4,
 "nbformat_minor": 5
}
